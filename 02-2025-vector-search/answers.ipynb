{
 "cells": [
  {
   "cell_type": "code",
   "execution_count": 1,
   "id": "7fe8835a",
   "metadata": {},
   "outputs": [
    {
     "name": "stderr",
     "output_type": "stream",
     "text": [
      "/workspaces/my-llm-zoomcamp/02-2025-vector-search/.venv/lib/python3.11/site-packages/tqdm/auto.py:21: TqdmWarning: IProgress not found. Please update jupyter and ipywidgets. See https://ipywidgets.readthedocs.io/en/stable/user_install.html\n",
      "  from .autonotebook import tqdm as notebook_tqdm\n"
     ]
    }
   ],
   "source": [
    "from fastembed import TextEmbedding"
   ]
  },
  {
   "cell_type": "code",
   "execution_count": 2,
   "id": "a4c5c560",
   "metadata": {},
   "outputs": [
    {
     "data": {
      "text/html": [
       "<div>\n",
       "<style scoped>\n",
       "    .dataframe tbody tr th:only-of-type {\n",
       "        vertical-align: middle;\n",
       "    }\n",
       "\n",
       "    .dataframe tbody tr th {\n",
       "        vertical-align: top;\n",
       "    }\n",
       "\n",
       "    .dataframe thead th {\n",
       "        text-align: right;\n",
       "    }\n",
       "</style>\n",
       "<table border=\"1\" class=\"dataframe\">\n",
       "  <thead>\n",
       "    <tr style=\"text-align: right;\">\n",
       "      <th></th>\n",
       "      <th>model</th>\n",
       "      <th>description</th>\n",
       "      <th>license</th>\n",
       "      <th>size_in_GB</th>\n",
       "      <th>dim</th>\n",
       "      <th>tasks</th>\n",
       "    </tr>\n",
       "  </thead>\n",
       "  <tbody>\n",
       "    <tr>\n",
       "      <th>0</th>\n",
       "      <td>BAAI/bge-small-en-v1.5</td>\n",
       "      <td>Text embeddings, Unimodal (text), English, 512...</td>\n",
       "      <td>mit</td>\n",
       "      <td>0.067</td>\n",
       "      <td>384</td>\n",
       "      <td>{}</td>\n",
       "    </tr>\n",
       "    <tr>\n",
       "      <th>1</th>\n",
       "      <td>BAAI/bge-small-zh-v1.5</td>\n",
       "      <td>Text embeddings, Unimodal (text), Chinese, 512...</td>\n",
       "      <td>mit</td>\n",
       "      <td>0.090</td>\n",
       "      <td>512</td>\n",
       "      <td>{}</td>\n",
       "    </tr>\n",
       "    <tr>\n",
       "      <th>2</th>\n",
       "      <td>snowflake/snowflake-arctic-embed-xs</td>\n",
       "      <td>Text embeddings, Unimodal (text), English, 512...</td>\n",
       "      <td>apache-2.0</td>\n",
       "      <td>0.090</td>\n",
       "      <td>384</td>\n",
       "      <td>{}</td>\n",
       "    </tr>\n",
       "    <tr>\n",
       "      <th>3</th>\n",
       "      <td>sentence-transformers/all-MiniLM-L6-v2</td>\n",
       "      <td>Text embeddings, Unimodal (text), English, 256...</td>\n",
       "      <td>apache-2.0</td>\n",
       "      <td>0.090</td>\n",
       "      <td>384</td>\n",
       "      <td>{}</td>\n",
       "    </tr>\n",
       "    <tr>\n",
       "      <th>4</th>\n",
       "      <td>jinaai/jina-embeddings-v2-small-en</td>\n",
       "      <td>Text embeddings, Unimodal (text), English, 819...</td>\n",
       "      <td>apache-2.0</td>\n",
       "      <td>0.120</td>\n",
       "      <td>512</td>\n",
       "      <td>{}</td>\n",
       "    </tr>\n",
       "    <tr>\n",
       "      <th>5</th>\n",
       "      <td>snowflake/snowflake-arctic-embed-s</td>\n",
       "      <td>Text embeddings, Unimodal (text), English, 512...</td>\n",
       "      <td>apache-2.0</td>\n",
       "      <td>0.130</td>\n",
       "      <td>384</td>\n",
       "      <td>{}</td>\n",
       "    </tr>\n",
       "    <tr>\n",
       "      <th>6</th>\n",
       "      <td>nomic-ai/nomic-embed-text-v1.5-Q</td>\n",
       "      <td>Text embeddings, Multimodal (text, image), Eng...</td>\n",
       "      <td>apache-2.0</td>\n",
       "      <td>0.130</td>\n",
       "      <td>768</td>\n",
       "      <td>{}</td>\n",
       "    </tr>\n",
       "    <tr>\n",
       "      <th>7</th>\n",
       "      <td>BAAI/bge-small-en</td>\n",
       "      <td>Text embeddings, Unimodal (text), English, 512...</td>\n",
       "      <td>mit</td>\n",
       "      <td>0.130</td>\n",
       "      <td>384</td>\n",
       "      <td>{}</td>\n",
       "    </tr>\n",
       "    <tr>\n",
       "      <th>8</th>\n",
       "      <td>BAAI/bge-base-en-v1.5</td>\n",
       "      <td>Text embeddings, Unimodal (text), English, 512...</td>\n",
       "      <td>mit</td>\n",
       "      <td>0.210</td>\n",
       "      <td>768</td>\n",
       "      <td>{}</td>\n",
       "    </tr>\n",
       "    <tr>\n",
       "      <th>9</th>\n",
       "      <td>sentence-transformers/paraphrase-multilingual-...</td>\n",
       "      <td>Text embeddings, Unimodal (text), Multilingual...</td>\n",
       "      <td>apache-2.0</td>\n",
       "      <td>0.220</td>\n",
       "      <td>384</td>\n",
       "      <td>{}</td>\n",
       "    </tr>\n",
       "    <tr>\n",
       "      <th>10</th>\n",
       "      <td>Qdrant/clip-ViT-B-32-text</td>\n",
       "      <td>Text embeddings, Multimodal (text&amp;image), Engl...</td>\n",
       "      <td>mit</td>\n",
       "      <td>0.250</td>\n",
       "      <td>512</td>\n",
       "      <td>{}</td>\n",
       "    </tr>\n",
       "    <tr>\n",
       "      <th>11</th>\n",
       "      <td>jinaai/jina-embeddings-v2-base-de</td>\n",
       "      <td>Text embeddings, Unimodal (text), Multilingual...</td>\n",
       "      <td>apache-2.0</td>\n",
       "      <td>0.320</td>\n",
       "      <td>768</td>\n",
       "      <td>{}</td>\n",
       "    </tr>\n",
       "    <tr>\n",
       "      <th>12</th>\n",
       "      <td>BAAI/bge-base-en</td>\n",
       "      <td>Text embeddings, Unimodal (text), English, 512...</td>\n",
       "      <td>mit</td>\n",
       "      <td>0.420</td>\n",
       "      <td>768</td>\n",
       "      <td>{}</td>\n",
       "    </tr>\n",
       "    <tr>\n",
       "      <th>13</th>\n",
       "      <td>snowflake/snowflake-arctic-embed-m</td>\n",
       "      <td>Text embeddings, Unimodal (text), English, 512...</td>\n",
       "      <td>apache-2.0</td>\n",
       "      <td>0.430</td>\n",
       "      <td>768</td>\n",
       "      <td>{}</td>\n",
       "    </tr>\n",
       "    <tr>\n",
       "      <th>14</th>\n",
       "      <td>thenlper/gte-base</td>\n",
       "      <td>General text embeddings, Unimodal (text), supp...</td>\n",
       "      <td>mit</td>\n",
       "      <td>0.440</td>\n",
       "      <td>768</td>\n",
       "      <td>{}</td>\n",
       "    </tr>\n",
       "    <tr>\n",
       "      <th>15</th>\n",
       "      <td>jinaai/jina-embeddings-v2-base-en</td>\n",
       "      <td>Text embeddings, Unimodal (text), English, 819...</td>\n",
       "      <td>apache-2.0</td>\n",
       "      <td>0.520</td>\n",
       "      <td>768</td>\n",
       "      <td>{}</td>\n",
       "    </tr>\n",
       "    <tr>\n",
       "      <th>16</th>\n",
       "      <td>nomic-ai/nomic-embed-text-v1.5</td>\n",
       "      <td>Text embeddings, Multimodal (text, image), Eng...</td>\n",
       "      <td>apache-2.0</td>\n",
       "      <td>0.520</td>\n",
       "      <td>768</td>\n",
       "      <td>{}</td>\n",
       "    </tr>\n",
       "    <tr>\n",
       "      <th>17</th>\n",
       "      <td>nomic-ai/nomic-embed-text-v1</td>\n",
       "      <td>Text embeddings, Multimodal (text, image), Eng...</td>\n",
       "      <td>apache-2.0</td>\n",
       "      <td>0.520</td>\n",
       "      <td>768</td>\n",
       "      <td>{}</td>\n",
       "    </tr>\n",
       "    <tr>\n",
       "      <th>18</th>\n",
       "      <td>snowflake/snowflake-arctic-embed-m-long</td>\n",
       "      <td>Text embeddings, Unimodal (text), English, 204...</td>\n",
       "      <td>apache-2.0</td>\n",
       "      <td>0.540</td>\n",
       "      <td>768</td>\n",
       "      <td>{}</td>\n",
       "    </tr>\n",
       "    <tr>\n",
       "      <th>19</th>\n",
       "      <td>jinaai/jina-clip-v1</td>\n",
       "      <td>Text embeddings, Multimodal (text&amp;image), Engl...</td>\n",
       "      <td>apache-2.0</td>\n",
       "      <td>0.550</td>\n",
       "      <td>768</td>\n",
       "      <td>{}</td>\n",
       "    </tr>\n",
       "    <tr>\n",
       "      <th>20</th>\n",
       "      <td>jinaai/jina-embeddings-v2-base-code</td>\n",
       "      <td>Text embeddings, Unimodal (text), Multilingual...</td>\n",
       "      <td>apache-2.0</td>\n",
       "      <td>0.640</td>\n",
       "      <td>768</td>\n",
       "      <td>{}</td>\n",
       "    </tr>\n",
       "    <tr>\n",
       "      <th>21</th>\n",
       "      <td>jinaai/jina-embeddings-v2-base-es</td>\n",
       "      <td>Text embeddings, Unimodal (text), supports mix...</td>\n",
       "      <td>apache-2.0</td>\n",
       "      <td>0.640</td>\n",
       "      <td>768</td>\n",
       "      <td>{}</td>\n",
       "    </tr>\n",
       "    <tr>\n",
       "      <th>22</th>\n",
       "      <td>mixedbread-ai/mxbai-embed-large-v1</td>\n",
       "      <td>Text embeddings, Unimodal (text), English, 512...</td>\n",
       "      <td>apache-2.0</td>\n",
       "      <td>0.640</td>\n",
       "      <td>1024</td>\n",
       "      <td>{}</td>\n",
       "    </tr>\n",
       "    <tr>\n",
       "      <th>23</th>\n",
       "      <td>jinaai/jina-embeddings-v2-base-zh</td>\n",
       "      <td>Text embeddings, Unimodal (text), supports mix...</td>\n",
       "      <td>apache-2.0</td>\n",
       "      <td>0.640</td>\n",
       "      <td>768</td>\n",
       "      <td>{}</td>\n",
       "    </tr>\n",
       "    <tr>\n",
       "      <th>24</th>\n",
       "      <td>sentence-transformers/paraphrase-multilingual-...</td>\n",
       "      <td>Text embeddings, Unimodal (text), Multilingual...</td>\n",
       "      <td>apache-2.0</td>\n",
       "      <td>1.000</td>\n",
       "      <td>768</td>\n",
       "      <td>{}</td>\n",
       "    </tr>\n",
       "    <tr>\n",
       "      <th>25</th>\n",
       "      <td>snowflake/snowflake-arctic-embed-l</td>\n",
       "      <td>Text embeddings, Unimodal (text), English, 512...</td>\n",
       "      <td>apache-2.0</td>\n",
       "      <td>1.020</td>\n",
       "      <td>1024</td>\n",
       "      <td>{}</td>\n",
       "    </tr>\n",
       "    <tr>\n",
       "      <th>26</th>\n",
       "      <td>BAAI/bge-large-en-v1.5</td>\n",
       "      <td>Text embeddings, Unimodal (text), English, 512...</td>\n",
       "      <td>mit</td>\n",
       "      <td>1.200</td>\n",
       "      <td>1024</td>\n",
       "      <td>{}</td>\n",
       "    </tr>\n",
       "    <tr>\n",
       "      <th>27</th>\n",
       "      <td>thenlper/gte-large</td>\n",
       "      <td>Text embeddings, Unimodal (text), English, 512...</td>\n",
       "      <td>mit</td>\n",
       "      <td>1.200</td>\n",
       "      <td>1024</td>\n",
       "      <td>{}</td>\n",
       "    </tr>\n",
       "    <tr>\n",
       "      <th>28</th>\n",
       "      <td>intfloat/multilingual-e5-large</td>\n",
       "      <td>Text embeddings, Unimodal (text), Multilingual...</td>\n",
       "      <td>mit</td>\n",
       "      <td>2.240</td>\n",
       "      <td>1024</td>\n",
       "      <td>{}</td>\n",
       "    </tr>\n",
       "    <tr>\n",
       "      <th>29</th>\n",
       "      <td>jinaai/jina-embeddings-v3</td>\n",
       "      <td>Multi-task unimodal (text) embedding model, mu...</td>\n",
       "      <td>cc-by-nc-4.0</td>\n",
       "      <td>2.290</td>\n",
       "      <td>1024</td>\n",
       "      <td>{'retrieval.query': 0, 'retrieval.passage': 1,...</td>\n",
       "    </tr>\n",
       "  </tbody>\n",
       "</table>\n",
       "</div>"
      ],
      "text/plain": [
       "                                                model  \\\n",
       "0                              BAAI/bge-small-en-v1.5   \n",
       "1                              BAAI/bge-small-zh-v1.5   \n",
       "2                 snowflake/snowflake-arctic-embed-xs   \n",
       "3              sentence-transformers/all-MiniLM-L6-v2   \n",
       "4                  jinaai/jina-embeddings-v2-small-en   \n",
       "5                  snowflake/snowflake-arctic-embed-s   \n",
       "6                    nomic-ai/nomic-embed-text-v1.5-Q   \n",
       "7                                   BAAI/bge-small-en   \n",
       "8                               BAAI/bge-base-en-v1.5   \n",
       "9   sentence-transformers/paraphrase-multilingual-...   \n",
       "10                          Qdrant/clip-ViT-B-32-text   \n",
       "11                  jinaai/jina-embeddings-v2-base-de   \n",
       "12                                   BAAI/bge-base-en   \n",
       "13                 snowflake/snowflake-arctic-embed-m   \n",
       "14                                  thenlper/gte-base   \n",
       "15                  jinaai/jina-embeddings-v2-base-en   \n",
       "16                     nomic-ai/nomic-embed-text-v1.5   \n",
       "17                       nomic-ai/nomic-embed-text-v1   \n",
       "18            snowflake/snowflake-arctic-embed-m-long   \n",
       "19                                jinaai/jina-clip-v1   \n",
       "20                jinaai/jina-embeddings-v2-base-code   \n",
       "21                  jinaai/jina-embeddings-v2-base-es   \n",
       "22                 mixedbread-ai/mxbai-embed-large-v1   \n",
       "23                  jinaai/jina-embeddings-v2-base-zh   \n",
       "24  sentence-transformers/paraphrase-multilingual-...   \n",
       "25                 snowflake/snowflake-arctic-embed-l   \n",
       "26                             BAAI/bge-large-en-v1.5   \n",
       "27                                 thenlper/gte-large   \n",
       "28                     intfloat/multilingual-e5-large   \n",
       "29                          jinaai/jina-embeddings-v3   \n",
       "\n",
       "                                          description       license  \\\n",
       "0   Text embeddings, Unimodal (text), English, 512...           mit   \n",
       "1   Text embeddings, Unimodal (text), Chinese, 512...           mit   \n",
       "2   Text embeddings, Unimodal (text), English, 512...    apache-2.0   \n",
       "3   Text embeddings, Unimodal (text), English, 256...    apache-2.0   \n",
       "4   Text embeddings, Unimodal (text), English, 819...    apache-2.0   \n",
       "5   Text embeddings, Unimodal (text), English, 512...    apache-2.0   \n",
       "6   Text embeddings, Multimodal (text, image), Eng...    apache-2.0   \n",
       "7   Text embeddings, Unimodal (text), English, 512...           mit   \n",
       "8   Text embeddings, Unimodal (text), English, 512...           mit   \n",
       "9   Text embeddings, Unimodal (text), Multilingual...    apache-2.0   \n",
       "10  Text embeddings, Multimodal (text&image), Engl...           mit   \n",
       "11  Text embeddings, Unimodal (text), Multilingual...    apache-2.0   \n",
       "12  Text embeddings, Unimodal (text), English, 512...           mit   \n",
       "13  Text embeddings, Unimodal (text), English, 512...    apache-2.0   \n",
       "14  General text embeddings, Unimodal (text), supp...           mit   \n",
       "15  Text embeddings, Unimodal (text), English, 819...    apache-2.0   \n",
       "16  Text embeddings, Multimodal (text, image), Eng...    apache-2.0   \n",
       "17  Text embeddings, Multimodal (text, image), Eng...    apache-2.0   \n",
       "18  Text embeddings, Unimodal (text), English, 204...    apache-2.0   \n",
       "19  Text embeddings, Multimodal (text&image), Engl...    apache-2.0   \n",
       "20  Text embeddings, Unimodal (text), Multilingual...    apache-2.0   \n",
       "21  Text embeddings, Unimodal (text), supports mix...    apache-2.0   \n",
       "22  Text embeddings, Unimodal (text), English, 512...    apache-2.0   \n",
       "23  Text embeddings, Unimodal (text), supports mix...    apache-2.0   \n",
       "24  Text embeddings, Unimodal (text), Multilingual...    apache-2.0   \n",
       "25  Text embeddings, Unimodal (text), English, 512...    apache-2.0   \n",
       "26  Text embeddings, Unimodal (text), English, 512...           mit   \n",
       "27  Text embeddings, Unimodal (text), English, 512...           mit   \n",
       "28  Text embeddings, Unimodal (text), Multilingual...           mit   \n",
       "29  Multi-task unimodal (text) embedding model, mu...  cc-by-nc-4.0   \n",
       "\n",
       "    size_in_GB   dim                                              tasks  \n",
       "0        0.067   384                                                 {}  \n",
       "1        0.090   512                                                 {}  \n",
       "2        0.090   384                                                 {}  \n",
       "3        0.090   384                                                 {}  \n",
       "4        0.120   512                                                 {}  \n",
       "5        0.130   384                                                 {}  \n",
       "6        0.130   768                                                 {}  \n",
       "7        0.130   384                                                 {}  \n",
       "8        0.210   768                                                 {}  \n",
       "9        0.220   384                                                 {}  \n",
       "10       0.250   512                                                 {}  \n",
       "11       0.320   768                                                 {}  \n",
       "12       0.420   768                                                 {}  \n",
       "13       0.430   768                                                 {}  \n",
       "14       0.440   768                                                 {}  \n",
       "15       0.520   768                                                 {}  \n",
       "16       0.520   768                                                 {}  \n",
       "17       0.520   768                                                 {}  \n",
       "18       0.540   768                                                 {}  \n",
       "19       0.550   768                                                 {}  \n",
       "20       0.640   768                                                 {}  \n",
       "21       0.640   768                                                 {}  \n",
       "22       0.640  1024                                                 {}  \n",
       "23       0.640   768                                                 {}  \n",
       "24       1.000   768                                                 {}  \n",
       "25       1.020  1024                                                 {}  \n",
       "26       1.200  1024                                                 {}  \n",
       "27       1.200  1024                                                 {}  \n",
       "28       2.240  1024                                                 {}  \n",
       "29       2.290  1024  {'retrieval.query': 0, 'retrieval.passage': 1,...  "
      ]
     },
     "execution_count": 2,
     "metadata": {},
     "output_type": "execute_result"
    }
   ],
   "source": [
    "import pandas as pd\n",
    "\n",
    "supported_models = (\n",
    "    pd.DataFrame(TextEmbedding.list_supported_models())\n",
    "    .sort_values(\"size_in_GB\")\n",
    "    .drop(columns=[\"sources\", \"model_file\", \"additional_files\"])\n",
    "    .reset_index(drop=True)\n",
    ")\n",
    "supported_models"
   ]
  },
  {
   "cell_type": "code",
   "execution_count": 3,
   "id": "3cd24c0b",
   "metadata": {},
   "outputs": [],
   "source": [
    "query = 'I just discovered the course. Can I join now?'"
   ]
  },
  {
   "cell_type": "code",
   "execution_count": 4,
   "id": "aafb2beb",
   "metadata": {},
   "outputs": [
    {
     "name": "stderr",
     "output_type": "stream",
     "text": [
      "Fetching 5 files: 100%|██████████| 5/5 [00:03<00:00,  1.44it/s]\n"
     ]
    },
    {
     "name": "stdout",
     "output_type": "stream",
     "text": [
      "Dimensioni ottenute: 512\n",
      "Valore minimo ottenuto: -0.11726373885183883\n"
     ]
    }
   ],
   "source": [
    "# Verifica la versione e forza il download del modello\n",
    "embedding = TextEmbedding(model_name='jinaai/jina-embeddings-v2-small-en')\n",
    "query_vector = list(embedding.embed(query))\n",
    "print(f\"Dimensioni ottenute: {len(query_vector[0])}\")\n",
    "print(f\"Valore minimo ottenuto: {min(query_vector[0])}\")"
   ]
  },
  {
   "cell_type": "markdown",
   "id": "8e340557",
   "metadata": {},
   "source": [
    "## Ans.1 -0.117"
   ]
  },
  {
   "cell_type": "code",
   "execution_count": 5,
   "id": "8f5bf497",
   "metadata": {},
   "outputs": [
    {
     "data": {
      "text/plain": [
       "np.float64(1.0)"
      ]
     },
     "execution_count": 5,
     "metadata": {},
     "output_type": "execute_result"
    }
   ],
   "source": [
    "import numpy as np\n",
    "np.linalg.norm(query_vector[0])  # Calcola la norma del vettore di embedding"
   ]
  },
  {
   "cell_type": "code",
   "execution_count": 6,
   "id": "6cdf4790",
   "metadata": {},
   "outputs": [],
   "source": [
    "doc = 'Can I still join the course after the start date?'\n",
    "doc_vector = list(embedding.embed(doc))"
   ]
  },
  {
   "cell_type": "code",
   "execution_count": 7,
   "id": "05fb626b",
   "metadata": {},
   "outputs": [],
   "source": [
    "  # Calcola il prodotto scalare tra i due vettori\n",
    "  dot_product = np.dot(query_vector[0], doc_vector[0])"
   ]
  },
  {
   "cell_type": "code",
   "execution_count": 8,
   "id": "bdf53f34",
   "metadata": {},
   "outputs": [
    {
     "data": {
      "text/plain": [
       "np.float64(0.9008528895674548)"
      ]
     },
     "execution_count": 8,
     "metadata": {},
     "output_type": "execute_result"
    }
   ],
   "source": [
    "dot_product"
   ]
  },
  {
   "cell_type": "markdown",
   "id": "a40acd22",
   "metadata": {},
   "source": [
    "## ans.2 0.9"
   ]
  },
  {
   "cell_type": "code",
   "execution_count": 9,
   "id": "36a6d1d7",
   "metadata": {},
   "outputs": [],
   "source": [
    "documents = [{'text': \"Yes, even if you don't register, you're still eligible to submit the homeworks.\\nBe aware, however, that there will be deadlines for turning in the final projects. So don't leave everything for the last minute.\",\n",
    "  'section': 'General course-related questions',\n",
    "  'question': 'Course - Can I still join the course after the start date?',\n",
    "  'course': 'data-engineering-zoomcamp'},\n",
    " {'text': 'Yes, we will keep all the materials after the course finishes, so you can follow the course at your own pace after it finishes.\\nYou can also continue looking at the homeworks and continue preparing for the next cohort. I guess you can also start working on your final capstone project.',\n",
    "  'section': 'General course-related questions',\n",
    "  'question': 'Course - Can I follow the course after it finishes?',\n",
    "  'course': 'data-engineering-zoomcamp'},\n",
    " {'text': \"The purpose of this document is to capture frequently asked technical questions\\nThe exact day and hour of the course will be 15th Jan 2024 at 17h00. The course will start with the first  “Office Hours'' live.1\\nSubscribe to course public Google Calendar (it works from Desktop only).\\nRegister before the course starts using this link.\\nJoin the course Telegram channel with announcements.\\nDon’t forget to register in DataTalks.Club's Slack and join the channel.\",\n",
    "  'section': 'General course-related questions',\n",
    "  'question': 'Course - When will the course start?',\n",
    "  'course': 'data-engineering-zoomcamp'},\n",
    " {'text': 'You can start by installing and setting up all the dependencies and requirements:\\nGoogle cloud account\\nGoogle Cloud SDK\\nPython 3 (installed with Anaconda)\\nTerraform\\nGit\\nLook over the prerequisites and syllabus to see if you are comfortable with these subjects.',\n",
    "  'section': 'General course-related questions',\n",
    "  'question': 'Course - What can I do before the course starts?',\n",
    "  'course': 'data-engineering-zoomcamp'},\n",
    " {'text': 'Star the repo! Share it with friends if you find it useful ❣️\\nCreate a PR if you see you can improve the text or the structure of the repository.',\n",
    "  'section': 'General course-related questions',\n",
    "  'question': 'How can we contribute to the course?',\n",
    "  'course': 'data-engineering-zoomcamp'}]"
   ]
  },
  {
   "cell_type": "code",
   "execution_count": 10,
   "id": "fda3f4ae",
   "metadata": {},
   "outputs": [
    {
     "data": {
      "text/plain": [
       "\"Yes, even if you don't register, you're still eligible to submit the homeworks.\\nBe aware, however, that there will be deadlines for turning in the final projects. So don't leave everything for the last minute.\""
      ]
     },
     "execution_count": 10,
     "metadata": {},
     "output_type": "execute_result"
    }
   ],
   "source": [
    "documents[0]['text']  # Visualizza il testo del primo documento"
   ]
  },
  {
   "cell_type": "code",
   "execution_count": 11,
   "id": "d04d0e0c",
   "metadata": {},
   "outputs": [
    {
     "name": "stdout",
     "output_type": "stream",
     "text": [
      "Forma della matrice V: (5, 512)\n"
     ]
    }
   ],
   "source": [
    "# Crea una lista per conservare tutti gli embedding\n",
    "V = []\n",
    "\n",
    "for doc in documents:\n",
    "    doc_embedding = list(embedding.embed(doc['text']))\n",
    "    V.append(doc_embedding[0])  # Aggiungi l'embedding alla matrice\n",
    "\n",
    "# Converti in array numpy per facilità d'uso\n",
    "V = np.array(V)\n",
    "print(f\"Forma della matrice V: {V.shape}\")  # Dovrebbe essere (5, 384) se hai 5 documenti"
   ]
  },
  {
   "cell_type": "code",
   "execution_count": 12,
   "id": "b61885ec",
   "metadata": {},
   "outputs": [
    {
     "data": {
      "text/plain": [
       "array([0.76296845, 0.81823782, 0.80853974, 0.71330788, 0.73044992])"
      ]
     },
     "execution_count": 12,
     "metadata": {},
     "output_type": "execute_result"
    }
   ],
   "source": [
    "V.dot(query_vector[0])  # Calcola il prodotto scalare tra il vettore di query e la matrice V"
   ]
  },
  {
   "cell_type": "markdown",
   "id": "032da0a8",
   "metadata": {},
   "source": [
    "## ans.3 1"
   ]
  },
  {
   "cell_type": "code",
   "execution_count": 14,
   "id": "e6d4741f",
   "metadata": {},
   "outputs": [
    {
     "name": "stdout",
     "output_type": "stream",
     "text": [
      "Yes, even if you don't register, you're still eligible to submit the homeworks.\n",
      "Be aware, however, that there will be deadlines for turning in the final projects. So don't leave everything for the last minute.\n"
     ]
    }
   ],
   "source": [
    "print(documents[0]['text'])  # Visualizza il testo del documento corrente"
   ]
  },
  {
   "cell_type": "code",
   "execution_count": 19,
   "id": "e94aa5a6",
   "metadata": {},
   "outputs": [
    {
     "data": {
      "text/plain": [
       "[{'text': \"Yes, even if you don't register, you're still eligible to submit the homeworks.\\nBe aware, however, that there will be deadlines for turning in the final projects. So don't leave everything for the last minute.\",\n",
       "  'section': 'General course-related questions',\n",
       "  'question': 'Course - Can I still join the course after the start date?',\n",
       "  'course': 'data-engineering-zoomcamp',\n",
       "  'full_text': \"Course - Can I still join the course after the start date? Yes, even if you don't register, you're still eligible to submit the homeworks.\\nBe aware, however, that there will be deadlines for turning in the final projects. So don't leave everything for the last minute.\"},\n",
       " {'text': 'Yes, we will keep all the materials after the course finishes, so you can follow the course at your own pace after it finishes.\\nYou can also continue looking at the homeworks and continue preparing for the next cohort. I guess you can also start working on your final capstone project.',\n",
       "  'section': 'General course-related questions',\n",
       "  'question': 'Course - Can I follow the course after it finishes?',\n",
       "  'course': 'data-engineering-zoomcamp',\n",
       "  'full_text': 'Course - Can I follow the course after it finishes? Yes, we will keep all the materials after the course finishes, so you can follow the course at your own pace after it finishes.\\nYou can also continue looking at the homeworks and continue preparing for the next cohort. I guess you can also start working on your final capstone project.'},\n",
       " {'text': \"The purpose of this document is to capture frequently asked technical questions\\nThe exact day and hour of the course will be 15th Jan 2024 at 17h00. The course will start with the first  “Office Hours'' live.1\\nSubscribe to course public Google Calendar (it works from Desktop only).\\nRegister before the course starts using this link.\\nJoin the course Telegram channel with announcements.\\nDon’t forget to register in DataTalks.Club's Slack and join the channel.\",\n",
       "  'section': 'General course-related questions',\n",
       "  'question': 'Course - When will the course start?',\n",
       "  'course': 'data-engineering-zoomcamp',\n",
       "  'full_text': \"Course - When will the course start? The purpose of this document is to capture frequently asked technical questions\\nThe exact day and hour of the course will be 15th Jan 2024 at 17h00. The course will start with the first  “Office Hours'' live.1\\nSubscribe to course public Google Calendar (it works from Desktop only).\\nRegister before the course starts using this link.\\nJoin the course Telegram channel with announcements.\\nDon’t forget to register in DataTalks.Club's Slack and join the channel.\"},\n",
       " {'text': 'You can start by installing and setting up all the dependencies and requirements:\\nGoogle cloud account\\nGoogle Cloud SDK\\nPython 3 (installed with Anaconda)\\nTerraform\\nGit\\nLook over the prerequisites and syllabus to see if you are comfortable with these subjects.',\n",
       "  'section': 'General course-related questions',\n",
       "  'question': 'Course - What can I do before the course starts?',\n",
       "  'course': 'data-engineering-zoomcamp',\n",
       "  'full_text': 'Course - What can I do before the course starts? You can start by installing and setting up all the dependencies and requirements:\\nGoogle cloud account\\nGoogle Cloud SDK\\nPython 3 (installed with Anaconda)\\nTerraform\\nGit\\nLook over the prerequisites and syllabus to see if you are comfortable with these subjects.'},\n",
       " {'text': 'Star the repo! Share it with friends if you find it useful ❣️\\nCreate a PR if you see you can improve the text or the structure of the repository.',\n",
       "  'section': 'General course-related questions',\n",
       "  'question': 'How can we contribute to the course?',\n",
       "  'course': 'data-engineering-zoomcamp',\n",
       "  'full_text': 'How can we contribute to the course? Star the repo! Share it with friends if you find it useful ❣️\\nCreate a PR if you see you can improve the text or the structure of the repository.'}]"
      ]
     },
     "execution_count": 19,
     "metadata": {},
     "output_type": "execute_result"
    }
   ],
   "source": [
    "V1 = [];\n",
    "\n",
    "for doc in documents:\n",
    "    doc['full_text'] = doc['question'] + ' ' + doc['text']  # Aggiungi il testo completo al dizionario del documento\n",
    "    doc_embedding = list(embedding.embed(doc['full_text']))\n",
    "    V1.append(doc_embedding[0])  # Aggiungi l'embedding alla matrice\n",
    "\n",
    " \n",
    "documents"
   ]
  },
  {
   "cell_type": "code",
   "execution_count": 21,
   "id": "d6858c0d",
   "metadata": {},
   "outputs": [
    {
     "name": "stdout",
     "output_type": "stream",
     "text": [
      "Forma della matrice V1: (5, 512)\n"
     ]
    },
    {
     "data": {
      "text/plain": [
       "array([0.85145432, 0.8436594 , 0.84082872, 0.77551577, 0.80860079])"
      ]
     },
     "execution_count": 21,
     "metadata": {},
     "output_type": "execute_result"
    }
   ],
   "source": [
    "V1 = np.array(V1)\n",
    "print(f\"Forma della matrice V1: {V1.shape}\")\n",
    "\n",
    "V1.dot(query_vector[0])"
   ]
  },
  {
   "cell_type": "markdown",
   "id": "5217f747",
   "metadata": {},
   "source": [
    "## Ans.4 0"
   ]
  },
  {
   "cell_type": "code",
   "execution_count": 30,
   "id": "176976ea",
   "metadata": {},
   "outputs": [
    {
     "name": "stdout",
     "output_type": "stream",
     "text": [
      "Dimensioni ottenute: 384\n",
      "Valore minimo ottenuto: -0.3130318522453308\n"
     ]
    }
   ],
   "source": [
    "# BAAI/bge-small-en\n",
    "embedding = TextEmbedding(model_name='BAAI/bge-small-en')\n",
    "query_vector = list(embedding.embed(query))\n",
    "print(f\"Dimensioni ottenute: {len(query_vector[0])}\")\n",
    "print(f\"Valore minimo ottenuto: {min(query_vector[0])}\")"
   ]
  },
  {
   "cell_type": "markdown",
   "id": "9a3d3330",
   "metadata": {},
   "source": [
    "## Ans.5 384"
   ]
  },
  {
   "cell_type": "code",
   "execution_count": 26,
   "id": "88cb4ed8",
   "metadata": {},
   "outputs": [
    {
     "data": {
      "text/plain": [
       "[{'text': 'Machine Learning Zoomcamp FAQ\\nThe purpose of this document is to capture frequently asked technical questions.\\nWe did this for our data engineering course and it worked quite well. Check this document for inspiration on how to structure your questions and answers:\\nData Engineering Zoomcamp FAQ\\nIn the course GitHub repository there’s a link. Here it is: https://airtable.com/shryxwLd0COOEaqXo\\nwork',\n",
       "  'section': 'General course-related questions',\n",
       "  'question': 'How do I sign up?',\n",
       "  'course': 'machine-learning-zoomcamp'},\n",
       " {'text': 'The course videos are pre-recorded, you can start watching the course right now.\\nWe will also occasionally have office hours - live sessions where we will answer your questions. The office hours sessions are recorded too.\\nYou can see the office hours as well as the pre-recorded course videos in the course playlist on YouTube.',\n",
       "  'section': 'General course-related questions',\n",
       "  'question': 'Is it going to be live? When?',\n",
       "  'course': 'machine-learning-zoomcamp'},\n",
       " {'text': 'Everything is recorded, so you won’t miss anything. You will be able to ask your questions for office hours in advance and we will cover them during the live stream. Also, you can always ask questions in Slack.',\n",
       "  'section': 'General course-related questions',\n",
       "  'question': 'What if I miss a session?',\n",
       "  'course': 'machine-learning-zoomcamp'},\n",
       " {'text': \"The bare minimum. The focus is more on practice, and we'll cover the theory only on the intuitive level.: https://mlbookcamp.com/article/python\\nFor example, we won't derive the gradient update rule for logistic regression (there are other great courses for that), but we'll cover how to use logistic regression and make sense of the results.\",\n",
       "  'section': 'General course-related questions',\n",
       "  'question': 'How much theory will you cover?',\n",
       "  'course': 'machine-learning-zoomcamp'},\n",
       " {'text': \"Yes! We'll cover some linear algebra in the course, but in general, there will be very few formulas, mostly code.\\nHere are some interesting videos covering linear algebra that you can already watch: ML Zoomcamp 1.8 - Linear Algebra Refresher from Alexey Grigorev or the excellent playlist from 3Blue1Brown Vectors | Chapter 1, Essence of linear algebra. Never hesitate to ask the community for help if you have any question.\\n(Mélanie Fouesnard)\",\n",
       "  'section': 'General course-related questions',\n",
       "  'question': \"I don't know math. Can I take the course?\",\n",
       "  'course': 'machine-learning-zoomcamp'}]"
      ]
     },
     "execution_count": 26,
     "metadata": {},
     "output_type": "execute_result"
    }
   ],
   "source": [
    "import requests \n",
    "\n",
    "docs_url = 'https://github.com/alexeygrigorev/llm-rag-workshop/raw/main/notebooks/documents.json'\n",
    "docs_response = requests.get(docs_url)\n",
    "documents_raw = docs_response.json()\n",
    "\n",
    "\n",
    "documents = []\n",
    "\n",
    "for course in documents_raw:\n",
    "    course_name = course['course']\n",
    "    if course_name != 'machine-learning-zoomcamp':\n",
    "        continue\n",
    "\n",
    "    for doc in course['documents']:\n",
    "        doc['course'] = course_name\n",
    "        documents.append(doc)\n",
    "        \n",
    "documents[:5]  # Mostra i primi 5 documenti per verifica"
   ]
  },
  {
   "cell_type": "code",
   "execution_count": null,
   "id": "d3fd1988",
   "metadata": {},
   "outputs": [],
   "source": [
    "V1 = [];\n",
    "\n",
    "for doc in documents:\n",
    "    doc['text'] = doc['question'] + ' ' + doc['text']  # Sostituisci il testo completo al dizionario del documento\n",
    "    doc_embedding = list(embedding.embed(doc['text']))\n",
    "    V1.append(doc_embedding[0])  # Aggiungi l'embedding alla matrice\n",
    "V1 = np.array(V1)\n",
    "print(f\"Forma della matrice V1: {V1.shape}\")\n",
    "\n"
   ]
  },
  {
   "cell_type": "code",
   "execution_count": 34,
   "id": "f82ba835",
   "metadata": {},
   "outputs": [
    {
     "data": {
      "text/plain": [
       "(375, 384)"
      ]
     },
     "execution_count": 34,
     "metadata": {},
     "output_type": "execute_result"
    }
   ],
   "source": [
    "V1.shape"
   ]
  },
  {
   "cell_type": "code",
   "execution_count": 36,
   "id": "e7f117f5",
   "metadata": {},
   "outputs": [
    {
     "data": {
      "text/plain": [
       "array([0.8147727, 0.8197732, 0.8030153, 0.7736217, 0.8234948],\n",
       "      dtype=float32)"
      ]
     },
     "execution_count": 36,
     "metadata": {},
     "output_type": "execute_result"
    }
   ],
   "source": [
    "# Calcola il prodotto scalare tra il vettore di query e la matrice V1\n",
    "similarities = V1.dot(query_vector[0])\n",
    "similarities[:5]  # Mostra solo i primi 5 risultati"
   ]
  },
  {
   "cell_type": "code",
   "execution_count": 28,
   "id": "e8c454e0",
   "metadata": {},
   "outputs": [
    {
     "data": {
      "text/plain": [
       "[{'text': 'How do I sign up? Machine Learning Zoomcamp FAQ\\nThe purpose of this document is to capture frequently asked technical questions.\\nWe did this for our data engineering course and it worked quite well. Check this document for inspiration on how to structure your questions and answers:\\nData Engineering Zoomcamp FAQ\\nIn the course GitHub repository there’s a link. Here it is: https://airtable.com/shryxwLd0COOEaqXo\\nwork',\n",
       "  'section': 'General course-related questions',\n",
       "  'question': 'How do I sign up?',\n",
       "  'course': 'machine-learning-zoomcamp'},\n",
       " {'text': 'Is it going to be live? When? The course videos are pre-recorded, you can start watching the course right now.\\nWe will also occasionally have office hours - live sessions where we will answer your questions. The office hours sessions are recorded too.\\nYou can see the office hours as well as the pre-recorded course videos in the course playlist on YouTube.',\n",
       "  'section': 'General course-related questions',\n",
       "  'question': 'Is it going to be live? When?',\n",
       "  'course': 'machine-learning-zoomcamp'},\n",
       " {'text': 'What if I miss a session? Everything is recorded, so you won’t miss anything. You will be able to ask your questions for office hours in advance and we will cover them during the live stream. Also, you can always ask questions in Slack.',\n",
       "  'section': 'General course-related questions',\n",
       "  'question': 'What if I miss a session?',\n",
       "  'course': 'machine-learning-zoomcamp'},\n",
       " {'text': \"How much theory will you cover? The bare minimum. The focus is more on practice, and we'll cover the theory only on the intuitive level.: https://mlbookcamp.com/article/python\\nFor example, we won't derive the gradient update rule for logistic regression (there are other great courses for that), but we'll cover how to use logistic regression and make sense of the results.\",\n",
       "  'section': 'General course-related questions',\n",
       "  'question': 'How much theory will you cover?',\n",
       "  'course': 'machine-learning-zoomcamp'},\n",
       " {'text': \"I don't know math. Can I take the course? Yes! We'll cover some linear algebra in the course, but in general, there will be very few formulas, mostly code.\\nHere are some interesting videos covering linear algebra that you can already watch: ML Zoomcamp 1.8 - Linear Algebra Refresher from Alexey Grigorev or the excellent playlist from 3Blue1Brown Vectors | Chapter 1, Essence of linear algebra. Never hesitate to ask the community for help if you have any question.\\n(Mélanie Fouesnard)\",\n",
       "  'section': 'General course-related questions',\n",
       "  'question': \"I don't know math. Can I take the course?\",\n",
       "  'course': 'machine-learning-zoomcamp'}]"
      ]
     },
     "execution_count": 28,
     "metadata": {},
     "output_type": "execute_result"
    }
   ],
   "source": [
    "documents[:5]  # Mostra i primi 5 documenti per verifica"
   ]
  },
  {
   "cell_type": "code",
   "execution_count": 29,
   "id": "c20c27aa",
   "metadata": {},
   "outputs": [],
   "source": [
    "from qdrant_client import QdrantClient, models\n",
    "\n",
    "client = QdrantClient(url=\"http://localhost:6333\")\n"
   ]
  },
  {
   "cell_type": "code",
   "execution_count": 38,
   "id": "e6dda4e7",
   "metadata": {},
   "outputs": [],
   "source": [
    "EMBEDDING_DIMENSIONALITY = 384  # Dimensione dell'embedding, ad esempio per BAAI/bge-small-en\n",
    "model_handle = 'BAAI/bge-small-en'"
   ]
  },
  {
   "cell_type": "code",
   "execution_count": 39,
   "id": "352422cf",
   "metadata": {},
   "outputs": [
    {
     "data": {
      "text/plain": [
       "True"
      ]
     },
     "execution_count": 39,
     "metadata": {},
     "output_type": "execute_result"
    }
   ],
   "source": [
    "# ricorda che il container deve essere attivo per poter eseguire il codice\n",
    "\n",
    "# Define the collection name\n",
    "collection_name = \"zoomcamp-faq-hw\"\n",
    "\n",
    "# Create the collection with specified vector parameters\n",
    "client.create_collection(\n",
    "    collection_name=collection_name,\n",
    "    vectors_config=models.VectorParams(\n",
    "        size=EMBEDDING_DIMENSIONALITY,  # Dimensionality of the vectors\n",
    "        distance=models.Distance.COSINE  # Distance metric for similarity search\n",
    "    )\n",
    ")"
   ]
  },
  {
   "cell_type": "code",
   "execution_count": 41,
   "id": "aeaf6398",
   "metadata": {},
   "outputs": [],
   "source": [
    "points = []\n",
    "id = 0\n",
    "\n",
    "for doc in documents:\n",
    "\n",
    "    point = models.PointStruct(\n",
    "        id=id,\n",
    "        vector=models.Document(text=doc['text'], model=model_handle), #embed text locally with \"jinaai/jina-embeddings-v2-small-en\" from FastEmbed\n",
    "        payload={\n",
    "            \"text\": doc['text'], #lo mettiamo anche nel payload per poter leggere per verifica (sarebbe difficile leggere vettori)\n",
    "            \"section\": doc['section'],\n",
    "            \"course\": course['course']\n",
    "        } #save all needed metadata fields\n",
    "    )\n",
    "    points.append(point)\n",
    "\n",
    "    id += 1"
   ]
  },
  {
   "cell_type": "code",
   "execution_count": 42,
   "id": "29de307d",
   "metadata": {},
   "outputs": [
    {
     "data": {
      "text/plain": [
       "375"
      ]
     },
     "execution_count": 42,
     "metadata": {},
     "output_type": "execute_result"
    }
   ],
   "source": [
    "len(points)"
   ]
  },
  {
   "cell_type": "code",
   "execution_count": 43,
   "id": "0ebc9b6f",
   "metadata": {},
   "outputs": [
    {
     "data": {
      "text/plain": [
       "UpdateResult(operation_id=0, status=<UpdateStatus.COMPLETED: 'completed'>)"
      ]
     },
     "execution_count": 43,
     "metadata": {},
     "output_type": "execute_result"
    }
   ],
   "source": [
    "client.upsert(\n",
    "    collection_name=collection_name,\n",
    "    points=points\n",
    ")"
   ]
  },
  {
   "cell_type": "code",
   "execution_count": 46,
   "id": "4a5f854f",
   "metadata": {},
   "outputs": [],
   "source": [
    "limit = 3\n",
    "\n",
    "results = client.query_points(\n",
    "    collection_name=collection_name,\n",
    "    query=models.Document( #embed the query text locally with \"jinaai/jina-embeddings-v2-small-en\"\n",
    "        text=query,\n",
    "        model=model_handle \n",
    "    ),\n",
    "    limit=limit, # top closest matches\n",
    "    with_payload=True #to get metadata in the results\n",
    ")"
   ]
  },
  {
   "cell_type": "code",
   "execution_count": 47,
   "id": "df58017e",
   "metadata": {},
   "outputs": [
    {
     "data": {
      "text/plain": [
       "QueryResponse(points=[ScoredPoint(id=14, version=0, score=0.87031734, payload={'text': 'The course has already started. Can I still join it? Yes, you can. You won’t be able to submit some of the homeworks, but you can still take part in the course.\\nIn order to get a certificate, you need to submit 2 out of 3 course projects and review 3 peers’ Projects by the deadline. It means that if you join the course at the end of November and manage to work on two projects, you will still be eligible for a certificate.', 'section': 'General course-related questions', 'course': 'mlops-zoomcamp'}, vector=None, shard_key=None, order_value=None), ScoredPoint(id=6, version=0, score=0.8691884, payload={'text': 'How long is the course? Approximately 4 months, but may take more if you want to do some extra activities (an extra project, an article, etc)', 'section': 'General course-related questions', 'course': 'mlops-zoomcamp'}, vector=None, shard_key=None, order_value=None), ScoredPoint(id=13, version=0, score=0.8683311, payload={'text': \"I’m new to Slack and can’t find the course channel. Where is it? Here’s how you join a in Slack: https://slack.com/help/articles/205239967-Join-a-channel\\nClick “All channels” at the top of your left sidebar. If you don't see this option, click “More” to find it.\\nBrowse the list of public channels in your workspace, or use the search bar to search by channel name or description.\\nSelect a channel from the list to view it.\\nClick Join Channel.\\nDo we need to provide the GitHub link to only our code corresponding to the homework questions?\\nYes. You are required to provide the URL to your repo in order to receive a grade\", 'section': 'General course-related questions', 'course': 'mlops-zoomcamp'}, vector=None, shard_key=None, order_value=None)])"
      ]
     },
     "execution_count": 47,
     "metadata": {},
     "output_type": "execute_result"
    }
   ],
   "source": [
    "results"
   ]
  },
  {
   "cell_type": "markdown",
   "id": "816d3114",
   "metadata": {},
   "source": [
    "## Ans.6 0.87"
   ]
  },
  {
   "cell_type": "markdown",
   "id": "b05493a2",
   "metadata": {},
   "source": []
  }
 ],
 "metadata": {
  "kernelspec": {
   "display_name": ".venv",
   "language": "python",
   "name": "python3"
  },
  "language_info": {
   "codemirror_mode": {
    "name": "ipython",
    "version": 3
   },
   "file_extension": ".py",
   "mimetype": "text/x-python",
   "name": "python",
   "nbconvert_exporter": "python",
   "pygments_lexer": "ipython3",
   "version": "3.11.13"
  }
 },
 "nbformat": 4,
 "nbformat_minor": 5
}
