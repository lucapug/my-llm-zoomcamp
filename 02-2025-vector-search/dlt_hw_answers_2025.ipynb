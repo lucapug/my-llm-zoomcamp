{
 "cells": [
  {
   "cell_type": "code",
   "execution_count": 5,
   "id": "1248237d",
   "metadata": {},
   "outputs": [],
   "source": [
    "import dlt\n",
    "import os\n",
    "\n",
    "import requests  # Aggiungi questa riga"
   ]
  },
  {
   "cell_type": "code",
   "execution_count": 6,
   "id": "dab41516",
   "metadata": {},
   "outputs": [],
   "source": [
    "@dlt.resource(table_name=\"zoomcamp_data\", max_table_nesting=0)\n",
    "def zoomcamp_data():\n",
    "    docs_url = 'https://github.com/alexeygrigorev/llm-rag-workshop/raw/main/notebooks/documents.json'\n",
    "    docs_response = requests.get(docs_url)\n",
    "    documents_raw = docs_response.json()\n",
    "\n",
    "    for course in documents_raw:\n",
    "        course_name = course['course']\n",
    "\n",
    "        for doc in course['documents']:\n",
    "            doc['course'] = course_name\n",
    "            yield doc"
   ]
  },
  {
   "cell_type": "code",
   "execution_count": 7,
   "id": "9eeae8f2",
   "metadata": {},
   "outputs": [],
   "source": [
    "from dlt.destinations import qdrant\n",
    "\n",
    "qdrant_destination = qdrant(\n",
    "  qd_path=\"db.qdrant\", \n",
    ")"
   ]
  },
  {
   "cell_type": "code",
   "execution_count": 8,
   "id": "4305ba82",
   "metadata": {},
   "outputs": [
    {
     "name": "stderr",
     "output_type": "stream",
     "text": [
      "\u001b[32m2025-07-13 14:22:29.214\u001b[0m | \u001b[31m\u001b[1mERROR   \u001b[0m | \u001b[36mfastembed.common.model_management\u001b[0m:\u001b[36mdownload_model\u001b[0m:\u001b[36m430\u001b[0m - \u001b[31m\u001b[1mCould not download model from HuggingFace: 403 Forbidden: None.\n",
      "Cannot access content at: https://huggingface.co/api/models/Qdrant/bge-small-en.\n",
      "Make sure your token has the correct permissions. Falling back to other sources.\u001b[0m\n"
     ]
    },
    {
     "name": "stderr",
     "output_type": "stream",
     "text": [
      "\u001b[32m2025-07-13 14:22:30.317\u001b[0m | \u001b[31m\u001b[1mERROR   \u001b[0m | \u001b[36mfastembed.common.model_management\u001b[0m:\u001b[36mdownload_model\u001b[0m:\u001b[36m430\u001b[0m - \u001b[31m\u001b[1mCould not download model from HuggingFace: 403 Forbidden: None.\n",
      "Cannot access content at: https://huggingface.co/api/models/Qdrant/bge-small-en.\n",
      "Make sure your token has the correct permissions. Falling back to other sources.\u001b[0m\n",
      "\u001b[32m2025-07-13 14:22:31.049\u001b[0m | \u001b[31m\u001b[1mERROR   \u001b[0m | \u001b[36mfastembed.common.model_management\u001b[0m:\u001b[36mdownload_model\u001b[0m:\u001b[36m430\u001b[0m - \u001b[31m\u001b[1mCould not download model from HuggingFace: 403 Forbidden: None.\n",
      "Cannot access content at: https://huggingface.co/api/models/Qdrant/bge-small-en.\n",
      "Make sure your token has the correct permissions. Falling back to other sources.\u001b[0m\n",
      "\u001b[32m2025-07-13 14:23:04.361\u001b[0m | \u001b[31m\u001b[1mERROR   \u001b[0m | \u001b[36mfastembed.common.model_management\u001b[0m:\u001b[36mdownload_model\u001b[0m:\u001b[36m430\u001b[0m - \u001b[31m\u001b[1mCould not download model from HuggingFace: 403 Forbidden: None.\n",
      "Cannot access content at: https://huggingface.co/api/models/Qdrant/bge-small-en.\n",
      "Make sure your token has the correct permissions. Falling back to other sources.\u001b[0m\n",
      "\u001b[32m2025-07-13 14:23:04.625\u001b[0m | \u001b[31m\u001b[1mERROR   \u001b[0m | \u001b[36mfastembed.common.model_management\u001b[0m:\u001b[36mdownload_model\u001b[0m:\u001b[36m430\u001b[0m - \u001b[31m\u001b[1mCould not download model from HuggingFace: 403 Forbidden: None.\n",
      "Cannot access content at: https://huggingface.co/api/models/Qdrant/bge-small-en.\n",
      "Make sure your token has the correct permissions. Falling back to other sources.\u001b[0m\n"
     ]
    },
    {
     "name": "stdout",
     "output_type": "stream",
     "text": [
      "Run started at 2025-07-13 14:22:29.184753+00:00 and COMPLETED in 35.66 seconds with 4 steps.\n",
      "Step extract COMPLETED in 0.53 seconds.\n",
      "\n",
      "Load package 1752416549.4576607 is EXTRACTED and NOT YET LOADED to the destination and contains no failed jobs\n",
      "\n",
      "Step normalize COMPLETED in 0.29 seconds.\n",
      "Normalized data for the following tables:\n",
      "- _dlt_pipeline_state: 1 row(s)\n",
      "- zoomcamp_data: 948 row(s)\n",
      "\n",
      "Load package 1752416549.4576607 is NORMALIZED and NOT YET LOADED to the destination and contains no failed jobs\n",
      "\n",
      "Step load COMPLETED in 34.57 seconds.\n",
      "Pipeline zoomcamp_pipeline load step completed in 34.54 seconds\n",
      "1 load package(s) were loaded to destination qdrant and into dataset zoomcamp_tagged_data\n",
      "The qdrant destination used /workspaces/my-llm-zoomcamp/02-2025-vector-search/db.qdrant location to store data\n",
      "Load package 1752416549.4576607 is LOADED and contains no failed jobs\n",
      "\n",
      "Step run COMPLETED in 35.66 seconds.\n",
      "Pipeline zoomcamp_pipeline load step completed in 34.54 seconds\n",
      "1 load package(s) were loaded to destination qdrant and into dataset zoomcamp_tagged_data\n",
      "The qdrant destination used /workspaces/my-llm-zoomcamp/02-2025-vector-search/db.qdrant location to store data\n",
      "Load package 1752416549.4576607 is LOADED and contains no failed jobs\n"
     ]
    }
   ],
   "source": [
    "pipeline = dlt.pipeline(\n",
    "    pipeline_name=\"zoomcamp_pipeline\",\n",
    "    destination=qdrant_destination,\n",
    "    dataset_name=\"zoomcamp_tagged_data\"\n",
    "\n",
    ")\n",
    "load_info = pipeline.run(zoomcamp_data())\n",
    "print(pipeline.last_trace)"
   ]
  }
 ],
 "metadata": {
  "kernelspec": {
   "display_name": "02-2025-vector-search",
   "language": "python",
   "name": "python3"
  },
  "language_info": {
   "codemirror_mode": {
    "name": "ipython",
    "version": 3
   },
   "file_extension": ".py",
   "mimetype": "text/x-python",
   "name": "python",
   "nbconvert_exporter": "python",
   "pygments_lexer": "ipython3",
   "version": "3.11.13"
  }
 },
 "nbformat": 4,
 "nbformat_minor": 5
}
