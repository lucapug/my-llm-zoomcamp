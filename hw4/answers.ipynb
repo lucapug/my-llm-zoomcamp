{
 "cells": [
  {
   "cell_type": "code",
   "execution_count": 1,
   "id": "b00010af-a19d-42f0-8943-adaf89bc8478",
   "metadata": {},
   "outputs": [
    {
     "name": "stderr",
     "output_type": "stream",
     "text": [
      "/home/lucapug/my-llm-zoomcamp/hw4/.venv/lib/python3.9/site-packages/tqdm/auto.py:21: TqdmWarning: IProgress not found. Please update jupyter and ipywidgets. See https://ipywidgets.readthedocs.io/en/stable/user_install.html\n",
      "  from .autonotebook import tqdm as notebook_tqdm\n"
     ]
    }
   ],
   "source": [
    "import pandas as pd\n",
    "import numpy as np\n",
    "\n",
    "from tqdm.auto import tqdm"
   ]
  },
  {
   "cell_type": "code",
   "execution_count": 2,
   "id": "5945f415-c8fe-4031-9c3e-2838e6580834",
   "metadata": {},
   "outputs": [],
   "source": [
    "github_url = 'https://github.com/DataTalksClub/llm-zoomcamp/blob/main/04-monitoring/data/results-gpt4o-mini.csv'"
   ]
  },
  {
   "cell_type": "code",
   "execution_count": 3,
   "id": "b7e62528-28cc-4b09-9320-61339778e63f",
   "metadata": {},
   "outputs": [],
   "source": [
    "url = f'{github_url}?raw=1'\n",
    "df = pd.read_csv(url)"
   ]
  },
  {
   "cell_type": "code",
   "execution_count": 4,
   "id": "61d901e4-9a1f-4627-ab2d-2d7d788d3162",
   "metadata": {},
   "outputs": [
    {
     "data": {
      "text/html": [
       "<div>\n",
       "<style scoped>\n",
       "    .dataframe tbody tr th:only-of-type {\n",
       "        vertical-align: middle;\n",
       "    }\n",
       "\n",
       "    .dataframe tbody tr th {\n",
       "        vertical-align: top;\n",
       "    }\n",
       "\n",
       "    .dataframe thead th {\n",
       "        text-align: right;\n",
       "    }\n",
       "</style>\n",
       "<table border=\"1\" class=\"dataframe\">\n",
       "  <thead>\n",
       "    <tr style=\"text-align: right;\">\n",
       "      <th></th>\n",
       "      <th>answer_llm</th>\n",
       "      <th>answer_orig</th>\n",
       "      <th>document</th>\n",
       "      <th>question</th>\n",
       "      <th>course</th>\n",
       "    </tr>\n",
       "  </thead>\n",
       "  <tbody>\n",
       "    <tr>\n",
       "      <th>0</th>\n",
       "      <td>You can sign up for the course by visiting the...</td>\n",
       "      <td>Machine Learning Zoomcamp FAQ\\nThe purpose of ...</td>\n",
       "      <td>0227b872</td>\n",
       "      <td>Where can I sign up for the course?</td>\n",
       "      <td>machine-learning-zoomcamp</td>\n",
       "    </tr>\n",
       "    <tr>\n",
       "      <th>1</th>\n",
       "      <td>You can sign up using the link provided in the...</td>\n",
       "      <td>Machine Learning Zoomcamp FAQ\\nThe purpose of ...</td>\n",
       "      <td>0227b872</td>\n",
       "      <td>Can you provide a link to sign up?</td>\n",
       "      <td>machine-learning-zoomcamp</td>\n",
       "    </tr>\n",
       "    <tr>\n",
       "      <th>2</th>\n",
       "      <td>Yes, there is an FAQ for the Machine Learning ...</td>\n",
       "      <td>Machine Learning Zoomcamp FAQ\\nThe purpose of ...</td>\n",
       "      <td>0227b872</td>\n",
       "      <td>Is there an FAQ for this Machine Learning course?</td>\n",
       "      <td>machine-learning-zoomcamp</td>\n",
       "    </tr>\n",
       "    <tr>\n",
       "      <th>3</th>\n",
       "      <td>The context does not provide any specific info...</td>\n",
       "      <td>Machine Learning Zoomcamp FAQ\\nThe purpose of ...</td>\n",
       "      <td>0227b872</td>\n",
       "      <td>Does this course have a GitHub repository for ...</td>\n",
       "      <td>machine-learning-zoomcamp</td>\n",
       "    </tr>\n",
       "    <tr>\n",
       "      <th>4</th>\n",
       "      <td>To structure your questions and answers for th...</td>\n",
       "      <td>Machine Learning Zoomcamp FAQ\\nThe purpose of ...</td>\n",
       "      <td>0227b872</td>\n",
       "      <td>How can I structure my questions and answers f...</td>\n",
       "      <td>machine-learning-zoomcamp</td>\n",
       "    </tr>\n",
       "  </tbody>\n",
       "</table>\n",
       "</div>"
      ],
      "text/plain": [
       "                                          answer_llm  \\\n",
       "0  You can sign up for the course by visiting the...   \n",
       "1  You can sign up using the link provided in the...   \n",
       "2  Yes, there is an FAQ for the Machine Learning ...   \n",
       "3  The context does not provide any specific info...   \n",
       "4  To structure your questions and answers for th...   \n",
       "\n",
       "                                         answer_orig  document  \\\n",
       "0  Machine Learning Zoomcamp FAQ\\nThe purpose of ...  0227b872   \n",
       "1  Machine Learning Zoomcamp FAQ\\nThe purpose of ...  0227b872   \n",
       "2  Machine Learning Zoomcamp FAQ\\nThe purpose of ...  0227b872   \n",
       "3  Machine Learning Zoomcamp FAQ\\nThe purpose of ...  0227b872   \n",
       "4  Machine Learning Zoomcamp FAQ\\nThe purpose of ...  0227b872   \n",
       "\n",
       "                                            question  \\\n",
       "0                Where can I sign up for the course?   \n",
       "1                 Can you provide a link to sign up?   \n",
       "2  Is there an FAQ for this Machine Learning course?   \n",
       "3  Does this course have a GitHub repository for ...   \n",
       "4  How can I structure my questions and answers f...   \n",
       "\n",
       "                      course  \n",
       "0  machine-learning-zoomcamp  \n",
       "1  machine-learning-zoomcamp  \n",
       "2  machine-learning-zoomcamp  \n",
       "3  machine-learning-zoomcamp  \n",
       "4  machine-learning-zoomcamp  "
      ]
     },
     "execution_count": 4,
     "metadata": {},
     "output_type": "execute_result"
    }
   ],
   "source": [
    "df.head()"
   ]
  },
  {
   "cell_type": "code",
   "execution_count": 5,
   "id": "35cd5904-6bb3-4be1-98e0-ef18f111b62b",
   "metadata": {},
   "outputs": [
    {
     "data": {
      "text/plain": [
       "(1830, 5)"
      ]
     },
     "execution_count": 5,
     "metadata": {},
     "output_type": "execute_result"
    }
   ],
   "source": [
    "df.shape"
   ]
  },
  {
   "cell_type": "code",
   "execution_count": 6,
   "id": "14795f98-7c5d-4c43-ba32-3e7f5951da6f",
   "metadata": {},
   "outputs": [],
   "source": [
    "df = df.iloc[:300]"
   ]
  },
  {
   "cell_type": "code",
   "execution_count": 7,
   "id": "478f035a-204b-45f7-b554-99ca42e08231",
   "metadata": {},
   "outputs": [
    {
     "name": "stdout",
     "output_type": "stream",
     "text": [
      "<class 'pandas.core.frame.DataFrame'>\n",
      "RangeIndex: 300 entries, 0 to 299\n",
      "Data columns (total 5 columns):\n",
      " #   Column       Non-Null Count  Dtype \n",
      "---  ------       --------------  ----- \n",
      " 0   answer_llm   300 non-null    object\n",
      " 1   answer_orig  300 non-null    object\n",
      " 2   document     300 non-null    object\n",
      " 3   question     300 non-null    object\n",
      " 4   course       300 non-null    object\n",
      "dtypes: object(5)\n",
      "memory usage: 11.8+ KB\n"
     ]
    }
   ],
   "source": [
    "df.info()"
   ]
  },
  {
   "cell_type": "code",
   "execution_count": 8,
   "id": "6c668621-1161-4fd0-92de-b522e571763d",
   "metadata": {},
   "outputs": [],
   "source": [
    "model_name = 'multi-qa-mpnet-base-dot-v1'"
   ]
  },
  {
   "cell_type": "code",
   "execution_count": 9,
   "id": "4dcec432-d0a4-4aee-b25d-4a3b941236f2",
   "metadata": {},
   "outputs": [
    {
     "name": "stderr",
     "output_type": "stream",
     "text": [
      "You try to use a model that was created with version 3.0.0.dev0, however, your version is 2.7.0. This might cause unexpected behavior or errors. In that case, try to update to the latest version.\n",
      "\n",
      "\n",
      "\n"
     ]
    }
   ],
   "source": [
    "from sentence_transformers import SentenceTransformer\n",
    "embedding_model = SentenceTransformer(model_name)"
   ]
  },
  {
   "cell_type": "code",
   "execution_count": 10,
   "id": "303b303a-cd10-4d79-b780-85b414d9c98a",
   "metadata": {},
   "outputs": [
    {
     "data": {
      "text/plain": [
       "array([-0.42244673, -0.22485583, -0.32405847, -0.28475878,  0.00725701],\n",
       "      dtype=float32)"
      ]
     },
     "execution_count": 10,
     "metadata": {},
     "output_type": "execute_result"
    }
   ],
   "source": [
    "answer_llm = df.iloc[0].answer_llm\n",
    "v_answer_llm = embedding_model.encode(answer_llm)\n",
    "\n",
    "v_answer_llm[:5]"
   ]
  },
  {
   "cell_type": "markdown",
   "id": "aa4c4953-6ac8-49ca-841d-7ccd32dfb54b",
   "metadata": {},
   "source": [
    "### ans.1 -0.42"
   ]
  },
  {
   "cell_type": "code",
   "execution_count": 11,
   "id": "09d5e907-2aa6-46d4-bc73-c9a55274b863",
   "metadata": {},
   "outputs": [],
   "source": [
    "def compute_similarity(record):\n",
    "    answer_orig = record['answer_orig']\n",
    "    answer_llm = record['answer_llm']\n",
    "    \n",
    "    v_llm = embedding_model.encode(answer_llm)\n",
    "    v_orig = embedding_model.encode(answer_orig)\n",
    "    \n",
    "    return v_llm.dot(v_orig)"
   ]
  },
  {
   "cell_type": "code",
   "execution_count": 12,
   "id": "3691de20-dded-4981-a669-1885d5c6ef43",
   "metadata": {},
   "outputs": [],
   "source": [
    "results_gpt4o_mini = df.to_dict(orient='records')"
   ]
  },
  {
   "cell_type": "code",
   "execution_count": 13,
   "id": "a86e9f92-fcd0-4ce7-957b-15aed84a3fc6",
   "metadata": {},
   "outputs": [
    {
     "name": "stderr",
     "output_type": "stream",
     "text": [
      "100%|████████████████████████████████████████████████████████| 300/300 [00:10<00:00, 28.68it/s]\n"
     ]
    }
   ],
   "source": [
    "evaluations = []\n",
    "\n",
    "for record in tqdm(results_gpt4o_mini):\n",
    "    score = compute_similarity(record)\n",
    "    evaluations.append(score)"
   ]
  },
  {
   "cell_type": "code",
   "execution_count": 14,
   "id": "5ee27df4-c5a3-4298-87fa-e7b509f59875",
   "metadata": {},
   "outputs": [
    {
     "data": {
      "text/plain": [
       "17.515999"
      ]
     },
     "execution_count": 14,
     "metadata": {},
     "output_type": "execute_result"
    }
   ],
   "source": [
    "evaluations[0]"
   ]
  },
  {
   "cell_type": "code",
   "execution_count": 15,
   "id": "daf9aea5-b01d-4635-84cb-1fe5f427a743",
   "metadata": {},
   "outputs": [
    {
     "data": {
      "text/plain": [
       "39.476017"
      ]
     },
     "execution_count": 15,
     "metadata": {},
     "output_type": "execute_result"
    }
   ],
   "source": [
    "max(evaluations)"
   ]
  },
  {
   "cell_type": "code",
   "execution_count": 16,
   "id": "6e12fe53-7066-4c02-9936-6425987bb02d",
   "metadata": {},
   "outputs": [],
   "source": [
    "df['dot_prod'] = evaluations"
   ]
  },
  {
   "cell_type": "code",
   "execution_count": 17,
   "id": "43055383-166e-4a57-af4d-6f07fe3bfda6",
   "metadata": {},
   "outputs": [
    {
     "data": {
      "text/plain": [
       "count    300.000000\n",
       "mean      27.495996\n",
       "std        6.384743\n",
       "min        4.547922\n",
       "25%       24.307846\n",
       "50%       28.336861\n",
       "75%       31.674309\n",
       "max       39.476017\n",
       "Name: dot_prod, dtype: float64"
      ]
     },
     "execution_count": 17,
     "metadata": {},
     "output_type": "execute_result"
    }
   ],
   "source": [
    "df.dot_prod.describe()"
   ]
  },
  {
   "cell_type": "markdown",
   "id": "6fadf39a-5c2d-4574-a581-1ddd7b3b2571",
   "metadata": {},
   "source": [
    "### ans.2 31.67"
   ]
  },
  {
   "cell_type": "code",
   "execution_count": 18,
   "id": "9ffda1f9-916d-4997-8566-93fedeccc2f7",
   "metadata": {},
   "outputs": [],
   "source": [
    "def compute_cosine(record):\n",
    "    answer_orig = record['answer_orig']\n",
    "    answer_llm = record['answer_llm']\n",
    "    \n",
    "    v_llm = embedding_model.encode(answer_llm)\n",
    "    v_orig = embedding_model.encode(answer_orig)\n",
    "\n",
    "    v_norm_llm = v_llm/np.sqrt((v_llm * v_llm).sum())\n",
    "    v_norm_orig = v_orig/np.sqrt((v_orig * v_orig).sum())\n",
    "    \n",
    "    return v_norm_llm.dot(v_norm_orig)"
   ]
  },
  {
   "cell_type": "code",
   "execution_count": 19,
   "id": "f34646e6-b617-42b1-b08a-4f8b266937f2",
   "metadata": {},
   "outputs": [
    {
     "name": "stderr",
     "output_type": "stream",
     "text": [
      "100%|████████████████████████████████████████████████████████| 300/300 [00:10<00:00, 29.66it/s]\n"
     ]
    }
   ],
   "source": [
    "evaluations2 = []\n",
    "\n",
    "for record in tqdm(results_gpt4o_mini):\n",
    "    score = compute_cosine(record)\n",
    "    evaluations2.append(score)"
   ]
  },
  {
   "cell_type": "code",
   "execution_count": 20,
   "id": "60cd163a-be23-4f76-be5c-362c417dc6a4",
   "metadata": {},
   "outputs": [
    {
     "data": {
      "text/plain": [
       "0.9587959"
      ]
     },
     "execution_count": 20,
     "metadata": {},
     "output_type": "execute_result"
    }
   ],
   "source": [
    "max(evaluations2)"
   ]
  },
  {
   "cell_type": "code",
   "execution_count": 21,
   "id": "f17c9069-1037-47af-8f04-045f91060773",
   "metadata": {},
   "outputs": [],
   "source": [
    "df['cosine'] = evaluations2"
   ]
  },
  {
   "cell_type": "code",
   "execution_count": 22,
   "id": "7e1b5c2d-4815-4593-b09e-2855fd65ca2d",
   "metadata": {},
   "outputs": [
    {
     "data": {
      "text/plain": [
       "count    300.000000\n",
       "mean       0.728392\n",
       "std        0.157755\n",
       "min        0.125357\n",
       "25%        0.651273\n",
       "50%        0.763761\n",
       "75%        0.836235\n",
       "max        0.958796\n",
       "Name: cosine, dtype: float64"
      ]
     },
     "execution_count": 22,
     "metadata": {},
     "output_type": "execute_result"
    }
   ],
   "source": [
    "df.cosine.describe()"
   ]
  },
  {
   "cell_type": "markdown",
   "id": "35a85f8e-2de3-4e92-9ea2-11bc5c3e9f13",
   "metadata": {},
   "source": [
    "### ans.3 0.83"
   ]
  },
  {
   "cell_type": "raw",
   "id": "0da81631-b1fe-4fb7-ba04-a6d2ec07b292",
   "metadata": {},
   "source": [
    "example usage of ROUGE metrics\n",
    "---------------------------------------------\n",
    "from rouge import Rouge \n",
    "\n",
    "hypothesis = \"the #### transcript is a written version of each day 's cnn student news program use this transcript to he    lp students with reading comprehension and vocabulary use the weekly newsquiz to test your knowledge of storie s you     saw on cnn student news\"\n",
    "\n",
    "reference = \"this page includes the show transcript use the transcript to help students with reading comprehension and     vocabulary at the bottom of the page , comment for a chance to be mentioned on cnn student news . you must be a teac    her or a student age # # or older to request a mention on the cnn student news roll call . the weekly newsquiz tests     students ' knowledge of even ts in the news\"\n",
    "\n",
    "rouge = Rouge()\n",
    "scores = rouge.get_scores(hypothesis, reference)\n",
    "\n",
    "\n",
    "output:\n",
    "\n",
    "[\n",
    "  {\n",
    "    \"rouge-1\": {\n",
    "      \"f\": 0.4786324739396596,\n",
    "      \"p\": 0.6363636363636364,\n",
    "      \"r\": 0.3835616438356164\n",
    "    },\n",
    "    \"rouge-2\": {\n",
    "      \"f\": 0.2608695605353498,\n",
    "      \"p\": 0.3488372093023256,\n",
    "      \"r\": 0.20833333333333334\n",
    "    },\n",
    "    \"rouge-l\": {\n",
    "      \"f\": 0.44705881864636676,\n",
    "      \"p\": 0.5277777777777778,\n",
    "      \"r\": 0.3877551020408163\n",
    "    }\n",
    "  }\n",
    "]\n",
    "\n",
    "--------------\n",
    "where f,p,r stand for F1 score, precision, recall"
   ]
  },
  {
   "cell_type": "code",
   "execution_count": 32,
   "id": "4276b711-e8b6-40df-9510-6a071fa0643e",
   "metadata": {},
   "outputs": [
    {
     "data": {
      "text/plain": [
       "'5170565b'"
      ]
     },
     "execution_count": 32,
     "metadata": {},
     "output_type": "execute_result"
    }
   ],
   "source": [
    "id = df.iloc[10].document\n",
    "id"
   ]
  },
  {
   "cell_type": "code",
   "execution_count": 33,
   "id": "59ee2e1d-1814-4e70-9b93-09cfa893711e",
   "metadata": {},
   "outputs": [
    {
     "data": {
      "text/plain": [
       "\"Yes, all sessions are recorded, so if you miss one, you won't miss anything. You can catch up on the content later. Additionally, you can submit your questions in advance for office hours, and those sessions are also recorded.\""
      ]
     },
     "execution_count": 33,
     "metadata": {},
     "output_type": "execute_result"
    }
   ],
   "source": [
    "# answer_llm = df.loc[df['document']=='5170565b'].answer_llm  #5 answers refer to the same ID\n",
    "answer_llm = df.iloc[10].answer_llm\n",
    "answer_llm"
   ]
  },
  {
   "cell_type": "code",
   "execution_count": 34,
   "id": "e0a21f98-38ff-4763-b860-e0714acc294d",
   "metadata": {},
   "outputs": [
    {
     "data": {
      "text/plain": [
       "'Everything is recorded, so you won’t miss anything. You will be able to ask your questions for office hours in advance and we will cover them during the live stream. Also, you can always ask questions in Slack.'"
      ]
     },
     "execution_count": 34,
     "metadata": {},
     "output_type": "execute_result"
    }
   ],
   "source": [
    "answer_orig = df.iloc[10].answer_orig\n",
    "answer_orig"
   ]
  },
  {
   "cell_type": "code",
   "execution_count": 45,
   "id": "98c4c2be-15dd-43e6-a93a-b3028da7e2bd",
   "metadata": {},
   "outputs": [],
   "source": [
    "from rouge import Rouge\n",
    "rouge_scorer = Rouge()\n",
    "\n",
    "\n",
    "scores = []\n",
    "for i in range(len(df)):\n",
    "    answer_llm = df.iloc[i].answer_llm\n",
    "    answer_orig = df.iloc[i].answer_orig\n",
    "    scores.append(rouge_scorer.get_scores(answer_llm, answer_orig)[0])"
   ]
  },
  {
   "cell_type": "code",
   "execution_count": 47,
   "id": "20adad3a-5f05-4867-aadf-3cd27e5041cb",
   "metadata": {},
   "outputs": [
    {
     "data": {
      "text/plain": [
       "{'rouge-1': {'r': 0.45454545454545453,\n",
       "  'p': 0.45454545454545453,\n",
       "  'f': 0.45454544954545456},\n",
       " 'rouge-2': {'r': 0.21621621621621623,\n",
       "  'p': 0.21621621621621623,\n",
       "  'f': 0.21621621121621637},\n",
       " 'rouge-l': {'r': 0.3939393939393939,\n",
       "  'p': 0.3939393939393939,\n",
       "  'f': 0.393939388939394}}"
      ]
     },
     "execution_count": 47,
     "metadata": {},
     "output_type": "execute_result"
    }
   ],
   "source": [
    "scores[10]"
   ]
  },
  {
   "cell_type": "markdown",
   "id": "dc342d80-a61c-494a-81d4-7eb0d72fd251",
   "metadata": {},
   "source": [
    "#### ans.4 0.45"
   ]
  },
  {
   "cell_type": "code",
   "execution_count": 53,
   "id": "f7ee7fd8-6e41-4ba5-877d-3790dd5a2ee3",
   "metadata": {},
   "outputs": [],
   "source": [
    "rouge_1 = scores[10]['rouge-1']['f']\n",
    "rouge_2 = scores[10]['rouge-2']['f']\n",
    "rouge_l = scores[10]['rouge-l']['f']\n",
    "rouge_avg = (rouge_1 + rouge_2 + rouge_l) / 3"
   ]
  },
  {
   "cell_type": "code",
   "execution_count": 54,
   "id": "a1f8b76e-c0ce-44d7-9a62-dac92b7ebf91",
   "metadata": {},
   "outputs": [
    {
     "data": {
      "text/plain": [
       "0.35490034990035496"
      ]
     },
     "execution_count": 54,
     "metadata": {},
     "output_type": "execute_result"
    }
   ],
   "source": [
    "rouge_avg"
   ]
  },
  {
   "cell_type": "markdown",
   "id": "73e503c0-3031-4ff6-b56b-66d2ac9aa884",
   "metadata": {},
   "source": [
    "#### ans.5 0.35"
   ]
  },
  {
   "cell_type": "code",
   "execution_count": 55,
   "id": "e92084d2-a85c-4cc5-864c-1e4c01ca1015",
   "metadata": {},
   "outputs": [
    {
     "data": {
      "text/plain": [
       "300"
      ]
     },
     "execution_count": 55,
     "metadata": {},
     "output_type": "execute_result"
    }
   ],
   "source": [
    "len(scores)"
   ]
  },
  {
   "cell_type": "code",
   "execution_count": 58,
   "id": "8e6bd5d8-47b9-448b-ba73-c4babe70bf24",
   "metadata": {},
   "outputs": [
    {
     "data": {
      "text/plain": [
       "[{'rouge-1': {'r': 0.061224489795918366,\n",
       "   'p': 0.21428571428571427,\n",
       "   'f': 0.09523809178130524},\n",
       "  'rouge-2': {'r': 0.017543859649122806,\n",
       "   'p': 0.07142857142857142,\n",
       "   'f': 0.028169010918468917},\n",
       "  'rouge-l': {'r': 0.061224489795918366,\n",
       "   'p': 0.21428571428571427,\n",
       "   'f': 0.09523809178130524}},\n",
       " {'rouge-1': {'r': 0.08163265306122448,\n",
       "   'p': 0.26666666666666666,\n",
       "   'f': 0.12499999641113292},\n",
       "  'rouge-2': {'r': 0.03508771929824561,\n",
       "   'p': 0.13333333333333333,\n",
       "   'f': 0.05555555225694465},\n",
       "  'rouge-l': {'r': 0.061224489795918366, 'p': 0.2, 'f': 0.09374999641113295}}]"
      ]
     },
     "execution_count": 58,
     "metadata": {},
     "output_type": "execute_result"
    }
   ],
   "source": [
    "scores[0:2]"
   ]
  },
  {
   "cell_type": "code",
   "execution_count": 61,
   "id": "28744122-d6ea-402f-b0af-906ad0d323a8",
   "metadata": {},
   "outputs": [],
   "source": [
    "temp=[scores[i]['rouge-1']['f'] for i in range(len(df))]"
   ]
  },
  {
   "cell_type": "code",
   "execution_count": 64,
   "id": "ac8bf1af-fa8c-4513-aeb5-e8f3f609dafe",
   "metadata": {},
   "outputs": [
    {
     "data": {
      "text/plain": [
       "0.09523809178130524"
      ]
     },
     "execution_count": 64,
     "metadata": {},
     "output_type": "execute_result"
    }
   ],
   "source": [
    "temp[0]"
   ]
  },
  {
   "cell_type": "code",
   "execution_count": 67,
   "id": "973c581c-e8b0-483a-a68d-16a4264e9722",
   "metadata": {},
   "outputs": [],
   "source": [
    "rouge_1 = [scores[i]['rouge-1']['f'] for i in range(len(df))]\n",
    "rouge_2 = [scores[i]['rouge-2']['f'] for i in range(len(df))]\n",
    "rouge_l = [scores[i]['rouge-l']['f'] for i in range(len(df))]\n",
    "#rouge_avg = (rouge_1 + rouge_2 + rouge_l) / 3"
   ]
  },
  {
   "cell_type": "code",
   "execution_count": 68,
   "id": "4a8e147c-6125-4e6a-b393-f94304134f6d",
   "metadata": {},
   "outputs": [
    {
     "data": {
      "text/plain": [
       "[0.09523809178130524, 0.12499999641113292, 0.41558441095631643]"
      ]
     },
     "execution_count": 68,
     "metadata": {},
     "output_type": "execute_result"
    }
   ],
   "source": [
    "rouge_1[0:3]"
   ]
  },
  {
   "cell_type": "code",
   "execution_count": 78,
   "id": "4e01359e-6a90-41d8-8a00-765eba87bca9",
   "metadata": {},
   "outputs": [],
   "source": [
    "import numpy as np\n",
    "\n",
    "data = np.array([rouge_1, rouge_2, rouge_l])\n",
    "rouge_avg=np.average(data, axis=0)"
   ]
  },
  {
   "cell_type": "code",
   "execution_count": 79,
   "id": "b8dd038f-ee3e-4dbb-a6f0-1042e058810d",
   "metadata": {},
   "outputs": [
    {
     "data": {
      "text/plain": [
       "0.07288173149369313"
      ]
     },
     "execution_count": 79,
     "metadata": {},
     "output_type": "execute_result"
    }
   ],
   "source": [
    "rouge_avg[0]"
   ]
  },
  {
   "cell_type": "code",
   "execution_count": 80,
   "id": "e94dc83c-0150-49b5-888f-adc4736a0781",
   "metadata": {},
   "outputs": [
    {
     "data": {
      "text/plain": [
       "0.07288173149369313"
      ]
     },
     "execution_count": 80,
     "metadata": {},
     "output_type": "execute_result"
    }
   ],
   "source": [
    "(scores[0]['rouge-1']['f']+scores[0]['rouge-2']['f']+scores[0]['rouge-l']['f'])/3"
   ]
  },
  {
   "cell_type": "code",
   "execution_count": 83,
   "id": "9f753c07-12c1-4c97-878c-2dc43cab13cd",
   "metadata": {},
   "outputs": [],
   "source": [
    "df1 = pd.DataFrame({'rouge_1':rouge_1, 'rouge_2':rouge_2, 'rouge_l':rouge_l, 'rouge_avg':rouge_avg})"
   ]
  },
  {
   "cell_type": "code",
   "execution_count": 84,
   "id": "d36f4cda-bffd-4ebd-a475-31bb2cf6bf34",
   "metadata": {},
   "outputs": [
    {
     "data": {
      "text/html": [
       "<div>\n",
       "<style scoped>\n",
       "    .dataframe tbody tr th:only-of-type {\n",
       "        vertical-align: middle;\n",
       "    }\n",
       "\n",
       "    .dataframe tbody tr th {\n",
       "        vertical-align: top;\n",
       "    }\n",
       "\n",
       "    .dataframe thead th {\n",
       "        text-align: right;\n",
       "    }\n",
       "</style>\n",
       "<table border=\"1\" class=\"dataframe\">\n",
       "  <thead>\n",
       "    <tr style=\"text-align: right;\">\n",
       "      <th></th>\n",
       "      <th>rouge_1</th>\n",
       "      <th>rouge_2</th>\n",
       "      <th>rouge_l</th>\n",
       "      <th>rouge_avg</th>\n",
       "    </tr>\n",
       "  </thead>\n",
       "  <tbody>\n",
       "    <tr>\n",
       "      <th>0</th>\n",
       "      <td>0.095238</td>\n",
       "      <td>0.028169</td>\n",
       "      <td>0.095238</td>\n",
       "      <td>0.072882</td>\n",
       "    </tr>\n",
       "    <tr>\n",
       "      <th>1</th>\n",
       "      <td>0.125000</td>\n",
       "      <td>0.055556</td>\n",
       "      <td>0.093750</td>\n",
       "      <td>0.091435</td>\n",
       "    </tr>\n",
       "    <tr>\n",
       "      <th>2</th>\n",
       "      <td>0.415584</td>\n",
       "      <td>0.177778</td>\n",
       "      <td>0.389610</td>\n",
       "      <td>0.327658</td>\n",
       "    </tr>\n",
       "    <tr>\n",
       "      <th>3</th>\n",
       "      <td>0.216216</td>\n",
       "      <td>0.047059</td>\n",
       "      <td>0.189189</td>\n",
       "      <td>0.150821</td>\n",
       "    </tr>\n",
       "    <tr>\n",
       "      <th>4</th>\n",
       "      <td>0.142076</td>\n",
       "      <td>0.033898</td>\n",
       "      <td>0.120219</td>\n",
       "      <td>0.098731</td>\n",
       "    </tr>\n",
       "  </tbody>\n",
       "</table>\n",
       "</div>"
      ],
      "text/plain": [
       "    rouge_1   rouge_2   rouge_l  rouge_avg\n",
       "0  0.095238  0.028169  0.095238   0.072882\n",
       "1  0.125000  0.055556  0.093750   0.091435\n",
       "2  0.415584  0.177778  0.389610   0.327658\n",
       "3  0.216216  0.047059  0.189189   0.150821\n",
       "4  0.142076  0.033898  0.120219   0.098731"
      ]
     },
     "execution_count": 84,
     "metadata": {},
     "output_type": "execute_result"
    }
   ],
   "source": [
    "df1.head()"
   ]
  },
  {
   "cell_type": "code",
   "execution_count": 86,
   "id": "fe5f36e7-25ad-454f-885a-167b357f20b8",
   "metadata": {},
   "outputs": [
    {
     "data": {
      "text/plain": [
       "0.20696501983423318"
      ]
     },
     "execution_count": 86,
     "metadata": {},
     "output_type": "execute_result"
    }
   ],
   "source": [
    "df1.rouge_2.mean()"
   ]
  },
  {
   "cell_type": "markdown",
   "id": "d64dffeb-2f7c-4e3f-b67e-034a16f04330",
   "metadata": {},
   "source": [
    "#### ans.6 0.20"
   ]
  },
  {
   "cell_type": "code",
   "execution_count": null,
   "id": "51e95016-1bfa-4434-9a40-4b91efa1ccf7",
   "metadata": {},
   "outputs": [],
   "source": []
  }
 ],
 "metadata": {
  "kernelspec": {
   "display_name": "Python 3 (ipykernel)",
   "language": "python",
   "name": "python3"
  },
  "language_info": {
   "codemirror_mode": {
    "name": "ipython",
    "version": 3
   },
   "file_extension": ".py",
   "mimetype": "text/x-python",
   "name": "python",
   "nbconvert_exporter": "python",
   "pygments_lexer": "ipython3",
   "version": "3.9.16"
  }
 },
 "nbformat": 4,
 "nbformat_minor": 5
}
