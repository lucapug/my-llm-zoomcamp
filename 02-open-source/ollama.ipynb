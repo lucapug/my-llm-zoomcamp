{
 "cells": [
  {
   "cell_type": "code",
   "execution_count": 1,
   "id": "506fab2a-a50c-42bd-a106-c83a9d2828ea",
   "metadata": {},
   "outputs": [
    {
     "name": "stdout",
     "output_type": "stream",
     "text": [
      "--2024-07-05 15:32:22--  https://raw.githubusercontent.com/alexeygrigorev/minsearch/main/minsearch.py\n",
      "Resolving raw.githubusercontent.com (raw.githubusercontent.com)... 185.199.109.133, 185.199.110.133, 185.199.108.133, ...\n",
      "Connecting to raw.githubusercontent.com (raw.githubusercontent.com)|185.199.109.133|:443... connected.\n",
      "HTTP request sent, awaiting response... 200 OK\n",
      "Length: 3832 (3.7K) [text/plain]\n",
      "Saving to: ‘minsearch.py’\n",
      "\n",
      "minsearch.py        100%[===================>]   3.74K  --.-KB/s    in 0s      \n",
      "\n",
      "2024-07-05 15:32:23 (27.7 MB/s) - ‘minsearch.py’ saved [3832/3832]\n",
      "\n"
     ]
    }
   ],
   "source": [
    "!rm -f minsearch.py\n",
    "!wget https://raw.githubusercontent.com/alexeygrigorev/minsearch/main/minsearch.py"
   ]
  },
  {
   "cell_type": "code",
   "execution_count": 2,
   "id": "3ac947de-effd-4b61-8792-a6d7a133f347",
   "metadata": {},
   "outputs": [
    {
     "data": {
      "text/plain": [
       "<minsearch.Index at 0x7ff0b66b0280>"
      ]
     },
     "execution_count": 2,
     "metadata": {},
     "output_type": "execute_result"
    }
   ],
   "source": [
    "import requests \n",
    "import minsearch\n",
    "\n",
    "docs_url = 'https://github.com/DataTalksClub/llm-zoomcamp/blob/main/01-intro/documents.json?raw=1'\n",
    "docs_response = requests.get(docs_url)\n",
    "documents_raw = docs_response.json()\n",
    "\n",
    "documents = []\n",
    "\n",
    "for course in documents_raw:\n",
    "    course_name = course['course']\n",
    "\n",
    "    for doc in course['documents']:\n",
    "        doc['course'] = course_name\n",
    "        documents.append(doc)\n",
    "\n",
    "index = minsearch.Index(\n",
    "    text_fields=[\"question\", \"text\", \"section\"],\n",
    "    keyword_fields=[\"course\"]\n",
    ")\n",
    "\n",
    "index.fit(documents)"
   ]
  },
  {
   "cell_type": "code",
   "execution_count": 3,
   "id": "8f087272-b44d-4738-9ea2-175ec63a058b",
   "metadata": {},
   "outputs": [],
   "source": [
    "def search(query):\n",
    "    boost = {'question': 3.0, 'section': 0.5}\n",
    "\n",
    "    results = index.search(\n",
    "        query=query,\n",
    "        filter_dict={'course': 'data-engineering-zoomcamp'},\n",
    "        boost_dict=boost,\n",
    "        num_results=5\n",
    "    )\n",
    "\n",
    "    return results"
   ]
  },
  {
   "cell_type": "code",
   "execution_count": 4,
   "id": "742ab881-499a-4675-83c4-2013ea1377b9",
   "metadata": {},
   "outputs": [],
   "source": [
    "def build_prompt(query, search_results):\n",
    "    prompt_template = \"\"\"\n",
    "You're a course teaching assistant. Answer the QUESTION based on the CONTEXT from the FAQ database.\n",
    "Use only the facts from the CONTEXT when answering the QUESTION.\n",
    "\n",
    "QUESTION: {question}\n",
    "\n",
    "CONTEXT: \n",
    "{context}\n",
    "\"\"\".strip()\n",
    "\n",
    "    context = \"\"\n",
    "    \n",
    "    for doc in search_results:\n",
    "        context = context + f\"section: {doc['section']}\\nquestion: {doc['question']}\\nanswer: {doc['text']}\\n\\n\"\n",
    "    \n",
    "    prompt = prompt_template.format(question=query, context=context).strip()\n",
    "    return prompt"
   ]
  },
  {
   "cell_type": "code",
   "execution_count": 5,
   "id": "152f0460-5e7b-4988-a203-0ea541668f96",
   "metadata": {},
   "outputs": [],
   "source": [
    "from openai import OpenAI"
   ]
  },
  {
   "cell_type": "code",
   "execution_count": 6,
   "id": "bcc7b016-c307-48a3-88b7-5929ea1d7b77",
   "metadata": {},
   "outputs": [],
   "source": [
    "#here we make the change. Now the openai client is connected to ollama\n",
    "\n",
    "#client = OpenAI()   #to be changed with the following lines\n",
    "\n",
    "client = OpenAI(\n",
    "    base_url='http://localhost:11434/v1/',\n",
    "    api_key='ollama',\n",
    ")"
   ]
  },
  {
   "cell_type": "code",
   "execution_count": 7,
   "id": "bc3d4b48-cb39-4a55-87db-9c77b565b5c6",
   "metadata": {},
   "outputs": [],
   "source": [
    "#we have to change only the llm model (cause we are still using openai client!)\n",
    "def llm(prompt):\n",
    "    response = client.chat.completions.create(\n",
    "        model='phi3',\n",
    "        messages=[{\"role\": \"user\", \"content\": prompt}]\n",
    "    )\n",
    "    \n",
    "    return response.choices[0].message.content"
   ]
  },
  {
   "cell_type": "code",
   "execution_count": 8,
   "id": "fe8bff3e-b672-42be-866b-f2d9bb217106",
   "metadata": {},
   "outputs": [],
   "source": [
    "def rag(query):\n",
    "    search_results = search(query)\n",
    "    prompt = build_prompt(query, search_results)\n",
    "    answer = llm(prompt)\n",
    "    return answer"
   ]
  },
  {
   "cell_type": "code",
   "execution_count": 13,
   "id": "091a77e6-936b-448e-a04b-bad1001f5bb0",
   "metadata": {},
   "outputs": [
    {
     "data": {
      "text/plain": [
       "\" This is a test.\\n\\n\\nThis sentence was composed to fulfill the given instruction, which simply requests a statement indicating it'ths a test situation without any additional or unnecessary information.\""
      ]
     },
     "execution_count": 13,
     "metadata": {},
     "output_type": "execute_result"
    }
   ],
   "source": [
    "llm('write that this is a test')"
   ]
  },
  {
   "cell_type": "code",
   "execution_count": 14,
   "id": "25e1852e-13ff-4e2c-ae3c-fd6b1adb18ec",
   "metadata": {},
   "outputs": [
    {
     "name": "stdout",
     "output_type": "stream",
     "text": [
      " This is a test.\n",
      "\n",
      "\n",
      "This sentence was composed to fulfill the given instruction, which simply requests a statement indicating it'ths a test situation without any additional or unnecessary information.\n"
     ]
    }
   ],
   "source": [
    "print(_)"
   ]
  },
  {
   "cell_type": "code",
   "execution_count": 10,
   "id": "21aa255e-c971-44ca-9826-a721df3ad063",
   "metadata": {},
   "outputs": [],
   "source": [
    "query = 'I just discovered the course. can i still enroll?'"
   ]
  },
  {
   "cell_type": "code",
   "execution_count": 11,
   "id": "3ad3a496-6597-45bc-8527-eb530da4d148",
   "metadata": {},
   "outputs": [
    {
     "data": {
      "text/plain": [
       "' Based on the information provided in the FAQ database, yes, you are still eligible to enroll and submit homeworks after the course start date as long as there is no formal registration deadline mentioned for late registrations within this specific context. However, make sure not to leave everything until last minute due to upcoming final project submission deadlines which will be communicated in time.'"
      ]
     },
     "execution_count": 11,
     "metadata": {},
     "output_type": "execute_result"
    }
   ],
   "source": [
    "rag(query)"
   ]
  },
  {
   "cell_type": "code",
   "execution_count": 12,
   "id": "a3bcc1c2-c4fe-45fc-9f8f-e30cb3df15c8",
   "metadata": {},
   "outputs": [
    {
     "name": "stdout",
     "output_type": "stream",
     "text": [
      " Based on the information provided in the FAQ database, yes, you are still eligible to enroll and submit homeworks after the course start date as long as there is no formal registration deadline mentioned for late registrations within this specific context. However, make sure not to leave everything until last minute due to upcoming final project submission deadlines which will be communicated in time.\n"
     ]
    }
   ],
   "source": [
    "print(_)"
   ]
  },
  {
   "cell_type": "code",
   "execution_count": 15,
   "id": "e61d9d07-2103-4d47-b3d2-b7e943a12e15",
   "metadata": {},
   "outputs": [
    {
     "data": {
      "text/plain": [
       "' This message serves as a placeholder text to indicate where you would typically insert an automated testing script.\\n\\n```python\\n# Simulating the inclusion of a unit test in Python using pytest framework\\n\\nimport pytest\\n\\ndef add(a, b):\\n    return a + b\\n\\n@pytest.mark.parametrize(\"input_value1\", [0, 5]) # Test with different first numbers\\n@pytestenerate multiple inputs for testing the second number as well: [-2, 3] @pytest.mark.generate(second_nums) def test_add():     assert add(input_value1, -2) == input_value1-2 # Test if addition is correct\\nassert add(input_value1,  3) == input_value1+3    # Ensure the function works for positive second number as well. \\n```'"
      ]
     },
     "execution_count": 15,
     "metadata": {},
     "output_type": "execute_result"
    }
   ],
   "source": [
    "#execute again with ollama dockerized\n",
    "llm('write that this is a test')"
   ]
  },
  {
   "cell_type": "code",
   "execution_count": 16,
   "id": "fdecc5b8-7be2-4912-8345-0fded40abc5b",
   "metadata": {},
   "outputs": [
    {
     "data": {
      "text/plain": [
       "\" As per our FAQ database, I'm sorry but there is no specific information available regarding late registration for this course that started on January 15th, 2024. However, it seems students are still able to submit homeworks and potentially follow along with materials post-course completion or continue onto the next cohort if applicable as per our policies discussed in Section A of General Course Questions. Please confirm directly from course providers for exact late registration policy details since this information might vary depending on specific circumstances, instructor's discretion etc.\\n\""
      ]
     },
     "execution_count": 16,
     "metadata": {},
     "output_type": "execute_result"
    }
   ],
   "source": [
    "#execute again with ollama dockerized\n",
    "rag(query)"
   ]
  },
  {
   "cell_type": "code",
   "execution_count": null,
   "id": "edaea4c7-9024-4b4e-a9a2-3056608bf451",
   "metadata": {},
   "outputs": [],
   "source": []
  }
 ],
 "metadata": {
  "kernelspec": {
   "display_name": "Python 3 (ipykernel)",
   "language": "python",
   "name": "python3"
  },
  "language_info": {
   "codemirror_mode": {
    "name": "ipython",
    "version": 3
   },
   "file_extension": ".py",
   "mimetype": "text/x-python",
   "name": "python",
   "nbconvert_exporter": "python",
   "pygments_lexer": "ipython3",
   "version": "3.10.12"
  }
 },
 "nbformat": 4,
 "nbformat_minor": 5
}
