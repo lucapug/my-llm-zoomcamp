{
 "cells": [
  {
   "cell_type": "code",
   "execution_count": 1,
   "id": "c219361d-6018-4feb-9c94-d847830bd348",
   "metadata": {},
   "outputs": [
    {
     "name": "stderr",
     "output_type": "stream",
     "text": [
      "/home/lucapug/my-llm-zoomcamp/hw3/.venv/lib/python3.9/site-packages/tqdm/auto.py:21: TqdmWarning: IProgress not found. Please update jupyter and ipywidgets. See https://ipywidgets.readthedocs.io/en/stable/user_install.html\n",
      "  from .autonotebook import tqdm as notebook_tqdm\n"
     ]
    }
   ],
   "source": [
    "# embeddings model multi-qa-distilbert-cos-v1\n",
    "\n",
    "model_name = 'multi-qa-distilbert-cos-v1'\n",
    "from sentence_transformers import SentenceTransformer\n",
    "embedding_model = SentenceTransformer(model_name)"
   ]
  },
  {
   "cell_type": "code",
   "execution_count": 2,
   "id": "1c85e9fa-fb53-471d-9f80-d9c5d2f7f3dd",
   "metadata": {},
   "outputs": [],
   "source": [
    "user_question = \"I just discovered the course. Can I still join it?\""
   ]
  },
  {
   "cell_type": "code",
   "execution_count": 3,
   "id": "8dbd2e3a-f523-4c1d-bb3f-a269da60c253",
   "metadata": {},
   "outputs": [],
   "source": [
    "user_question_embed = embedding_model.encode(user_question)"
   ]
  },
  {
   "cell_type": "code",
   "execution_count": 4,
   "id": "a955c487-a1a6-4eaa-b9c1-82fd429cf6a5",
   "metadata": {},
   "outputs": [
    {
     "data": {
      "text/plain": [
       "768"
      ]
     },
     "execution_count": 4,
     "metadata": {},
     "output_type": "execute_result"
    }
   ],
   "source": [
    "len(user_question_embed)"
   ]
  },
  {
   "cell_type": "code",
   "execution_count": 5,
   "id": "5e0b8fa1-7ea9-4c50-95d6-edf2c130e44b",
   "metadata": {},
   "outputs": [
    {
     "data": {
      "text/plain": [
       "array([ 0.07822262, -0.04013116,  0.03861362, -0.00017896,  0.08923467],\n",
       "      dtype=float32)"
      ]
     },
     "execution_count": 5,
     "metadata": {},
     "output_type": "execute_result"
    }
   ],
   "source": [
    "user_question_embed[0:5]"
   ]
  },
  {
   "cell_type": "markdown",
   "id": "d3fdd0d9-ad07-45ce-be1d-833e1fd33312",
   "metadata": {},
   "source": [
    "### ans.1 0.07"
   ]
  },
  {
   "cell_type": "code",
   "execution_count": 6,
   "id": "a79ca5df-497a-4d88-a3b0-f91910038d61",
   "metadata": {},
   "outputs": [],
   "source": [
    "import requests \n",
    "\n",
    "base_url = 'https://github.com/DataTalksClub/llm-zoomcamp/blob/main'\n",
    "relative_url = '03-vector-search/eval/documents-with-ids.json'\n",
    "docs_url = f'{base_url}/{relative_url}?raw=1'\n",
    "docs_response = requests.get(docs_url)\n",
    "documents = docs_response.json()"
   ]
  },
  {
   "cell_type": "code",
   "execution_count": 7,
   "id": "aac6f7ec-44f0-4aa9-b075-bbae7b194469",
   "metadata": {},
   "outputs": [
    {
     "data": {
      "text/plain": [
       "{'text': \"You don't need it. You're accepted. You can also just start learning and submitting homework without registering. It is not checked against any registered list. Registration is just to gauge interest before the start date.\",\n",
       " 'section': 'General course-related questions',\n",
       " 'question': 'Course - I have registered for the Data Engineering Bootcamp. When can I expect to receive the confirmation email?',\n",
       " 'course': 'data-engineering-zoomcamp',\n",
       " 'id': '0bbf41ec'}"
      ]
     },
     "execution_count": 7,
     "metadata": {},
     "output_type": "execute_result"
    }
   ],
   "source": [
    "documents[3]"
   ]
  },
  {
   "cell_type": "code",
   "execution_count": 8,
   "id": "7df97331-0689-4ba3-ae3c-c6d061b520f1",
   "metadata": {},
   "outputs": [
    {
     "data": {
      "text/plain": [
       "375"
      ]
     },
     "execution_count": 8,
     "metadata": {},
     "output_type": "execute_result"
    }
   ],
   "source": [
    "hw3_documents =[]\n",
    "\n",
    "for doc in documents:\n",
    "    if doc['course']=='machine-learning-zoomcamp':\n",
    "        hw3_documents.append(doc)\n",
    "\n",
    "len(hw3_documents)"
   ]
  },
  {
   "cell_type": "code",
   "execution_count": 10,
   "id": "644c3d71-3434-4fb5-968e-edc89a76d053",
   "metadata": {},
   "outputs": [],
   "source": [
    "embeddings = []\n",
    "\n",
    "for doc in hw3_documents:\n",
    "    question = doc['question']\n",
    "    text = doc['text']\n",
    "    qa_text = f'{question} {text}'\n",
    "    emb = embedding_model.encode(qa_text)\n",
    "    embeddings.append(emb)\n"
   ]
  },
  {
   "cell_type": "code",
   "execution_count": 12,
   "id": "97b4ff49-31be-4ece-a543-177f91424ec7",
   "metadata": {},
   "outputs": [
    {
     "data": {
      "text/plain": [
       "(375, 768)"
      ]
     },
     "execution_count": 12,
     "metadata": {},
     "output_type": "execute_result"
    }
   ],
   "source": [
    "import numpy as np\n",
    "\n",
    "X = np.array(embeddings)\n",
    "X.shape"
   ]
  },
  {
   "cell_type": "markdown",
   "id": "0910589f-306f-448f-89dd-4a6b57d21b58",
   "metadata": {},
   "source": [
    "### ans.2 (375, 768)"
   ]
  },
  {
   "cell_type": "code",
   "execution_count": 13,
   "id": "1eae6a81-11a6-491f-a412-676b9df46f84",
   "metadata": {},
   "outputs": [
    {
     "data": {
      "text/plain": [
       "1.0000001"
      ]
     },
     "execution_count": 13,
     "metadata": {},
     "output_type": "execute_result"
    }
   ],
   "source": [
    "X[1].dot(X[1])"
   ]
  },
  {
   "cell_type": "code",
   "execution_count": 14,
   "id": "d932d3e8-4cf7-409f-9558-c559fbefb84c",
   "metadata": {},
   "outputs": [
    {
     "data": {
      "text/plain": [
       "0.6506573"
      ]
     },
     "execution_count": 14,
     "metadata": {},
     "output_type": "execute_result"
    }
   ],
   "source": [
    "v = user_question_embed\n",
    "\n",
    "scores = X.dot(v)\n",
    "max(scores)"
   ]
  },
  {
   "cell_type": "markdown",
   "id": "cc8c400e-6b3c-4c33-ba1c-659977105dbe",
   "metadata": {},
   "source": [
    "### ans.3 0.65"
   ]
  },
  {
   "cell_type": "code",
   "execution_count": null,
   "id": "736ff2ec-6de2-4121-acdb-ae598f29fcc5",
   "metadata": {},
   "outputs": [],
   "source": []
  }
 ],
 "metadata": {
  "kernelspec": {
   "display_name": "Python 3 (ipykernel)",
   "language": "python",
   "name": "python3"
  },
  "language_info": {
   "codemirror_mode": {
    "name": "ipython",
    "version": 3
   },
   "file_extension": ".py",
   "mimetype": "text/x-python",
   "name": "python",
   "nbconvert_exporter": "python",
   "pygments_lexer": "ipython3",
   "version": "3.9.16"
  }
 },
 "nbformat": 4,
 "nbformat_minor": 5
}
