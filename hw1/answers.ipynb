{
 "cells": [
  {
   "cell_type": "markdown",
   "id": "cea7ce8f-c85e-4e11-8758-cb5c0e5499e8",
   "metadata": {},
   "source": [
    "## Q1 What's the version.build_hash value?"
   ]
  },
  {
   "cell_type": "code",
   "execution_count": 1,
   "id": "9f4a2e1c-c82c-47ea-aa3a-1bcbdcb31498",
   "metadata": {},
   "outputs": [
    {
     "data": {
      "text/plain": [
       "ObjectApiResponse({'name': 'dccd924571d5', 'cluster_name': 'docker-cluster', 'cluster_uuid': 'rV_CfVgAQw6N96Eb9lC-QA', 'version': {'number': '8.4.3', 'build_flavor': 'default', 'build_type': 'docker', 'build_hash': '42f05b9372a9a4a470db3b52817899b99a76ee73', 'build_date': '2022-10-04T07:17:24.662462378Z', 'build_snapshot': False, 'lucene_version': '9.3.0', 'minimum_wire_compatibility_version': '7.17.0', 'minimum_index_compatibility_version': '7.0.0'}, 'tagline': 'You Know, for Search'})"
      ]
     },
     "execution_count": 1,
     "metadata": {},
     "output_type": "execute_result"
    }
   ],
   "source": [
    "from elasticsearch import Elasticsearch\n",
    "\n",
    "es_client = Elasticsearch(\"http://localhost:9200\")\n",
    "es_client.info()"
   ]
  },
  {
   "cell_type": "code",
   "execution_count": 5,
   "id": "4d0705b0-ff04-4f0d-b74d-fdbe7bd8f255",
   "metadata": {},
   "outputs": [
    {
     "data": {
      "text/plain": [
       "ObjectApiResponse({'acknowledged': True, 'shards_acknowledged': True, 'index': 'course-questions'})"
      ]
     },
     "execution_count": 5,
     "metadata": {},
     "output_type": "execute_result"
    }
   ],
   "source": [
    "index_settings = {\n",
    "    \"settings\": {\n",
    "        \"number_of_shards\": 1,\n",
    "        \"number_of_replicas\": 0\n",
    "    },\n",
    "    \"mappings\": {\n",
    "        \"properties\": {\n",
    "            \"text\": {\"type\": \"text\"},\n",
    "            \"section\": {\"type\": \"text\"},\n",
    "            \"question\": {\"type\": \"text\"},\n",
    "            \"course\": {\"type\": \"keyword\"} \n",
    "        }\n",
    "    }\n",
    "}\n",
    "\n",
    "index_name = \"course-questions\"\n",
    "\n",
    "es_client.indices.create(index=index_name, body=index_settings)"
   ]
  },
  {
   "cell_type": "markdown",
   "id": "31ee7460-814b-43d4-9554-08ef43a15529",
   "metadata": {},
   "source": [
    "## ans.1 '42f05b9372a9a4a470db3b52817899b99a76ee73'"
   ]
  },
  {
   "cell_type": "code",
   "execution_count": 6,
   "id": "b7b116be-2c94-4aa8-9301-3463c7967b92",
   "metadata": {},
   "outputs": [],
   "source": [
    "import requests \n",
    "\n",
    "docs_url = 'https://github.com/DataTalksClub/llm-zoomcamp/blob/main/01-intro/documents.json?raw=1'\n",
    "docs_response = requests.get(docs_url)\n",
    "documents_raw = docs_response.json()\n",
    "\n",
    "documents = []\n",
    "\n",
    "for course in documents_raw:\n",
    "    course_name = course['course']\n",
    "\n",
    "    for doc in course['documents']:\n",
    "        doc['course'] = course_name\n",
    "        documents.append(doc)"
   ]
  },
  {
   "cell_type": "code",
   "execution_count": 7,
   "id": "6fa9845b-c357-4574-9efa-5da7dd029a1a",
   "metadata": {},
   "outputs": [
    {
     "data": {
      "text/plain": [
       "948"
      ]
     },
     "execution_count": 7,
     "metadata": {},
     "output_type": "execute_result"
    }
   ],
   "source": [
    "len(documents)"
   ]
  },
  {
   "cell_type": "code",
   "execution_count": 8,
   "id": "96c594bd-a04d-432b-a6fa-0773df7781d7",
   "metadata": {},
   "outputs": [
    {
     "data": {
      "text/plain": [
       "{'text': \"The purpose of this document is to capture frequently asked technical questions\\nThe exact day and hour of the course will be 15th Jan 2024 at 17h00. The course will start with the first  “Office Hours'' live.1\\nSubscribe to course public Google Calendar (it works from Desktop only).\\nRegister before the course starts using this link.\\nJoin the course Telegram channel with announcements.\\nDon’t forget to register in DataTalks.Club's Slack and join the channel.\",\n",
       " 'section': 'General course-related questions',\n",
       " 'question': 'Course - When will the course start?',\n",
       " 'course': 'data-engineering-zoomcamp'}"
      ]
     },
     "execution_count": 8,
     "metadata": {},
     "output_type": "execute_result"
    }
   ],
   "source": [
    "documents[0]"
   ]
  },
  {
   "cell_type": "markdown",
   "id": "5e9b8318-a6cc-48f3-a6fb-87b1105ced42",
   "metadata": {},
   "source": [
    "## Q2. Which function do you use for adding your data to elastic?"
   ]
  },
  {
   "cell_type": "code",
   "execution_count": null,
   "id": "189e79da-9ceb-4f82-899d-ea234d9b131b",
   "metadata": {},
   "outputs": [],
   "source": [
    "# #20.3 sec per caricare i documenti nell'indice es\n",
    "# #use tqdm if you want to see the time bar\n",
    "# for doc in documents:\n",
    "#    es_client.index(index=index_name, document=doc)"
   ]
  },
  {
   "cell_type": "markdown",
   "id": "85797368-863d-429c-b1e2-42702eb8b000",
   "metadata": {},
   "source": [
    "## ans.2 index"
   ]
  },
  {
   "cell_type": "markdown",
   "id": "8a90bd86-5e83-41b4-a08d-759e1b8eaf57",
   "metadata": {},
   "source": [
    "## Q3. what's the score for the top ranking result?"
   ]
  },
  {
   "cell_type": "code",
   "execution_count": 10,
   "id": "c3e1a24f-7f8d-4606-a7ff-10606fa7e71c",
   "metadata": {},
   "outputs": [],
   "source": [
    "index_name = \"course-questions\"\n",
    "\n",
    "# # Cohort 2024\n",
    "# user_question = \"How do I execute a command in a running docker container?\"\n",
    "\n",
    "# Cohort 2025\n",
    "user_question = \"How do execute a command on a Kubernetes pod?\"\n",
    "\n",
    "search_query = {\n",
    "    \"size\": 5,\n",
    "    \"query\": {\n",
    "        \"bool\": {\n",
    "            \"must\": {\n",
    "                \"multi_match\": {\n",
    "                    \"query\": user_question,\n",
    "                    \"fields\": [\"question^4\", \"text\"],\n",
    "                    \"type\": \"best_fields\"\n",
    "                }\n",
    "            }\n",
    "        }\n",
    "    }\n",
    "}"
   ]
  },
  {
   "cell_type": "code",
   "execution_count": 11,
   "id": "13d09e40-5b0d-481e-a528-019b688acae3",
   "metadata": {},
   "outputs": [
    {
     "name": "stdout",
     "output_type": "stream",
     "text": [
      "Section: 5. Deploying Machine Learning Models\n",
      "Question: How do I debug a docker container?\n",
      "Answer: Launch the container image in interactive mode and overriding the entrypoint, so that it starts a bash command.\n",
      "docker run -it --entrypoint bash <image>\n",
      "If the container is already running, execute a command in the specific container:\n",
      "docker ps (find the container-id)\n",
      "docker exec -it <container-id> bash\n",
      "(Marcos MJD)\n",
      "\n",
      "\n",
      "Section: 10. Kubernetes and TensorFlow Serving\n",
      "Question: Kubernetes-dashboard\n",
      "Answer: Deploy and Access the Kubernetes Dashboard\n",
      "Luke\n",
      "\n",
      "\n",
      "Section: 5. Deploying Machine Learning Models\n",
      "Question: How do I copy files from a different folder into docker container’s working directory?\n",
      "Answer: You can copy files from your local machine into a Docker container using the docker cp command. Here's how to do it:\n",
      "In the Dockerfile, you can provide the folder containing the files that you want to copy over. The basic syntax is as follows:\n",
      "COPY [\"src/predict.py\", \"models/xgb_model.bin\", \"./\"]\t\t\t\t\t\t\t\t\t\t\tGopakumar Gopinathan\n",
      "\n",
      "\n",
      "Section: 5. Deploying Machine Learning Models\n",
      "Question: How to run a script while a web-server is working?\n",
      "Answer: Problem description:\n",
      "I started a web-server in terminal (command window, powershell, etc.). How can I run another python script, which makes a request to this server?\n",
      "Solution description:\n",
      "Just open another terminal (command window, powershell, etc.) and run a python script.\n",
      "Alena Kniazeva\n",
      "\n",
      "\n",
      "Section: 4. Evaluation Metrics for Classification\n",
      "Question: How can I annotate a graph?\n",
      "Answer: Matplotlib has a cool method to annotate where you could provide an X,Y point and annotate with an arrow and text. For example this will show an arrow pointing to the x,y point optimal threshold.\n",
      "plt.annotate(f'Optimal Threshold: {optimal_threshold:.2f}\\nOptimal F1 Score: {optimal_f1_score:.2f}',\n",
      "xy=(optimal_threshold, optimal_f1_score),\n",
      "xytext=(0.3, 0.5),\n",
      "textcoords='axes fraction',\n",
      "arrowprops=dict(facecolor='black', shrink=0.05))\n",
      "Quinn Avila\n",
      "\n",
      "\n"
     ]
    }
   ],
   "source": [
    "response = es_client.search(index=index_name, body=search_query)\n",
    "\n",
    "for hit in response['hits']['hits']:\n",
    "    doc = hit['_source']\n",
    "    print(f\"Section: {doc['section']}\\nQuestion: {doc['question']}\\nAnswer: {doc['text']}\\n\\n\")"
   ]
  },
  {
   "cell_type": "code",
   "execution_count": 12,
   "id": "291aff55-a976-484e-8b14-cce601e8ad02",
   "metadata": {},
   "outputs": [
    {
     "name": "stdout",
     "output_type": "stream",
     "text": [
      "44.50556\n",
      "35.433445\n",
      "33.70974\n",
      "33.2635\n",
      "32.589073\n"
     ]
    }
   ],
   "source": [
    "for hit in response['hits']['hits']:\n",
    "    score = hit['_score']\n",
    "    print(score)"
   ]
  },
  {
   "cell_type": "markdown",
   "id": "0bf6a2c7-d925-4794-8d3f-0c30b818728a",
   "metadata": {},
   "source": [
    "### ans.3 score = 84.05 (cohort 2024)\n",
    "\n",
    "## ans.3 score = 44.50"
   ]
  },
  {
   "cell_type": "markdown",
   "id": "7eed6983-bc39-4986-97d1-be4d2972f9d2",
   "metadata": {},
   "source": [
    "## Q4. What's the 3rd question returned by the search engine?"
   ]
  },
  {
   "cell_type": "code",
   "execution_count": 13,
   "id": "e83ea404",
   "metadata": {},
   "outputs": [],
   "source": [
    "user_question = \"How do copy a file to a Docker container?\"\n"
   ]
  },
  {
   "cell_type": "code",
   "execution_count": 14,
   "id": "480d9e56-b282-4dde-a968-84255b81985f",
   "metadata": {},
   "outputs": [],
   "source": [
    "search_query = {\n",
    "    \"size\": 3,\n",
    "    \"query\": {\n",
    "        \"bool\": {\n",
    "            \"must\": {\n",
    "                \"multi_match\": {\n",
    "                    \"query\": user_question,\n",
    "                    \"fields\": [\"question^4\", \"text\"],\n",
    "                    \"type\": \"best_fields\"\n",
    "                }\n",
    "            },\n",
    "            \"filter\": {\n",
    "                \"term\": {\n",
    "                    \"course\": \"machine-learning-zoomcamp\"\n",
    "                }\n",
    "            }\n",
    "        }\n",
    "    }\n",
    "}\n",
    "\n",
    "\n",
    "response = es_client.search(index=index_name, body=search_query)\n",
    "#response"
   ]
  },
  {
   "cell_type": "code",
   "execution_count": 15,
   "id": "20844cb1-4e29-4a2f-95d5-aa8fe6eb96e8",
   "metadata": {},
   "outputs": [
    {
     "name": "stdout",
     "output_type": "stream",
     "text": [
      "Question: How do I debug a docker container?\n",
      "\n",
      "Question: How do I copy files from my local machine to docker container?\n",
      "\n",
      "Question: How do I copy files from a different folder into docker container’s working directory?\n",
      "\n"
     ]
    }
   ],
   "source": [
    "for hit in response['hits']['hits']:\n",
    "    doc = hit['_source']\n",
    "    print(f\"Question: {doc['question']}\\n\")"
   ]
  },
  {
   "cell_type": "markdown",
   "id": "f1e382bf-3778-4113-89fd-4fa0204fae92",
   "metadata": {},
   "source": [
    "## ans.4 How do I copy files from a different folder into docker container’s working directory?"
   ]
  },
  {
   "cell_type": "markdown",
   "id": "651fe003-73d2-40ec-908c-18cf5ec5c2d8",
   "metadata": {},
   "source": [
    "## Q5. What's the length of the resulting prompt? (use the len function)"
   ]
  },
  {
   "cell_type": "code",
   "execution_count": 16,
   "id": "a0daa434-70d4-422a-b1b7-8edf1932e761",
   "metadata": {},
   "outputs": [],
   "source": [
    "def retrieve_documents(query, index_name=\"course-questions\", max_results=3):\n",
    "    es_client = Elasticsearch(\"http://localhost:9200\")\n",
    "    \n",
    "    search_query = {\n",
    "        \"size\": max_results,\n",
    "        \"query\": {\n",
    "            \"bool\": {\n",
    "                \"must\": {\n",
    "                    \"multi_match\": {\n",
    "                        \"query\": query,\n",
    "                        \"fields\": [\"question^4\", \"text\"],\n",
    "                        \"type\": \"best_fields\"\n",
    "                    }\n",
    "                },\n",
    "                \"filter\": {\n",
    "                    \"term\": {\n",
    "                        \"course\": \"machine-learning-zoomcamp\"\n",
    "                    }\n",
    "                }\n",
    "            }\n",
    "        }\n",
    "    }\n",
    "    \n",
    "    response = es_client.search(index=index_name, body=search_query)\n",
    "    documents = [hit['_source'] for hit in response['hits']['hits']]\n",
    "    return documents"
   ]
  },
  {
   "cell_type": "code",
   "execution_count": 17,
   "id": "10febae3-5b37-4a4a-8ef0-f49fd5c06b19",
   "metadata": {},
   "outputs": [
    {
     "data": {
      "text/plain": [
       "'How do copy a file to a Docker container?'"
      ]
     },
     "execution_count": 17,
     "metadata": {},
     "output_type": "execute_result"
    }
   ],
   "source": [
    "user_question"
   ]
  },
  {
   "cell_type": "code",
   "execution_count": 26,
   "id": "01beb0a7-ff15-48c5-8de3-085cd7c90d93",
   "metadata": {},
   "outputs": [
    {
     "data": {
      "text/plain": [
       "[{'text': 'Launch the container image in interactive mode and overriding the entrypoint, so that it starts a bash command.\\ndocker run -it --entrypoint bash <image>\\nIf the container is already running, execute a command in the specific container:\\ndocker ps (find the container-id)\\ndocker exec -it <container-id> bash\\n(Marcos MJD)',\n",
       "  'section': '5. Deploying Machine Learning Models',\n",
       "  'question': 'How do I debug a docker container?',\n",
       "  'course': 'machine-learning-zoomcamp'},\n",
       " {'text': \"You can copy files from your local machine into a Docker container using the docker cp command. Here's how to do it:\\nTo copy a file or directory from your local machine into a running Docker container, you can use the `docker cp command`. The basic syntax is as follows:\\ndocker cp /path/to/local/file_or_directory container_id:/path/in/container\\nHrithik Kumar Advani\",\n",
       "  'section': '5. Deploying Machine Learning Models',\n",
       "  'question': 'How do I copy files from my local machine to docker container?',\n",
       "  'course': 'machine-learning-zoomcamp'},\n",
       " {'text': 'You can copy files from your local machine into a Docker container using the docker cp command. Here\\'s how to do it:\\nIn the Dockerfile, you can provide the folder containing the files that you want to copy over. The basic syntax is as follows:\\nCOPY [\"src/predict.py\", \"models/xgb_model.bin\", \"./\"]\\t\\t\\t\\t\\t\\t\\t\\t\\t\\t\\tGopakumar Gopinathan',\n",
       "  'section': '5. Deploying Machine Learning Models',\n",
       "  'question': 'How do I copy files from a different folder into docker container’s working directory?',\n",
       "  'course': 'machine-learning-zoomcamp'}]"
      ]
     },
     "execution_count": 26,
     "metadata": {},
     "output_type": "execute_result"
    }
   ],
   "source": [
    "# # quanto segue è raccolto tutto nella funzione retrieve_documents()\n",
    "# for hit in response['hits']['hits']:\n",
    "#     doc = hit['_source']\n",
    "#     # print(doc)\n",
    "\n",
    "# result_docs = []\n",
    "\n",
    "# for hit in response['hits']['hits']:\n",
    "#     result_docs.append(hit['_source'])\n",
    "\n",
    "# result_docs\n",
    "\n",
    "result_docs = retrieve_documents(user_question, index_name=\"course-questions\", max_results=3)\n",
    "result_docs"
   ]
  },
  {
   "cell_type": "code",
   "execution_count": 28,
   "id": "999010af-ca6b-471e-b04e-d5ed66df44d4",
   "metadata": {},
   "outputs": [
    {
     "data": {
      "text/plain": [
       "'Q: How do I debug a docker container?\\nA: Launch the container image in interactive mode and overriding the entrypoint, so that it starts a bash command.\\ndocker run -it --entrypoint bash <image>\\nIf the container is already running, execute a command in the specific container:\\ndocker ps (find the container-id)\\ndocker exec -it <container-id> bash\\n(Marcos MJD)\\n\\nQ: How do I copy files from my local machine to docker container?\\nA: You can copy files from your local machine into a Docker container using the docker cp command. Here\\'s how to do it:\\nTo copy a file or directory from your local machine into a running Docker container, you can use the `docker cp command`. The basic syntax is as follows:\\ndocker cp /path/to/local/file_or_directory container_id:/path/in/container\\nHrithik Kumar Advani\\n\\nQ: How do I copy files from a different folder into docker container’s working directory?\\nA: You can copy files from your local machine into a Docker container using the docker cp command. Here\\'s how to do it:\\nIn the Dockerfile, you can provide the folder containing the files that you want to copy over. The basic syntax is as follows:\\nCOPY [\"src/predict.py\", \"models/xgb_model.bin\", \"./\"]\\t\\t\\t\\t\\t\\t\\t\\t\\t\\t\\tGopakumar Gopinathan\\n\\n'"
      ]
     },
     "execution_count": 28,
     "metadata": {},
     "output_type": "execute_result"
    }
   ],
   "source": [
    "context_template = \"\"\"\n",
    "Q: {question}\n",
    "A: {text}\n",
    "\"\"\".strip()\n",
    "\n",
    "context = \"\"\n",
    "\n",
    "for doc in result_docs:\n",
    "    context = context + context_template.format(question = doc['question'], text = doc['text']) + '\\n\\n'\n",
    "\n",
    "context"
   ]
  },
  {
   "cell_type": "code",
   "execution_count": 29,
   "id": "1f484f8e-c902-4f80-be19-eab3df459044",
   "metadata": {},
   "outputs": [],
   "source": [
    "prompt_template = \"\"\"\n",
    "You're a course teaching assistant. Answer the QUESTION based on the CONTEXT from the FAQ database.\n",
    "Use only the facts from the CONTEXT when answering the QUESTION.\n",
    "\n",
    "QUESTION: {question}\n",
    "\n",
    "CONTEXT:\n",
    "{context}\n",
    "\"\"\".strip()"
   ]
  },
  {
   "cell_type": "code",
   "execution_count": 31,
   "id": "10386b88-c1bb-4aa8-9419-29571ece96b2",
   "metadata": {},
   "outputs": [
    {
     "data": {
      "text/plain": [
       "'You\\'re a course teaching assistant. Answer the QUESTION based on the CONTEXT from the FAQ database.\\nUse only the facts from the CONTEXT when answering the QUESTION.\\n\\nQUESTION: How do copy a file to a Docker container?\\n\\nCONTEXT:\\nQ: How do I debug a docker container?\\nA: Launch the container image in interactive mode and overriding the entrypoint, so that it starts a bash command.\\ndocker run -it --entrypoint bash <image>\\nIf the container is already running, execute a command in the specific container:\\ndocker ps (find the container-id)\\ndocker exec -it <container-id> bash\\n(Marcos MJD)\\n\\nQ: How do I copy files from my local machine to docker container?\\nA: You can copy files from your local machine into a Docker container using the docker cp command. Here\\'s how to do it:\\nTo copy a file or directory from your local machine into a running Docker container, you can use the `docker cp command`. The basic syntax is as follows:\\ndocker cp /path/to/local/file_or_directory container_id:/path/in/container\\nHrithik Kumar Advani\\n\\nQ: How do I copy files from a different folder into docker container’s working directory?\\nA: You can copy files from your local machine into a Docker container using the docker cp command. Here\\'s how to do it:\\nIn the Dockerfile, you can provide the folder containing the files that you want to copy over. The basic syntax is as follows:\\nCOPY [\"src/predict.py\", \"models/xgb_model.bin\", \"./\"]\\t\\t\\t\\t\\t\\t\\t\\t\\t\\t\\tGopakumar Gopinathan'"
      ]
     },
     "execution_count": 31,
     "metadata": {},
     "output_type": "execute_result"
    }
   ],
   "source": [
    "prompt = prompt_template.format(question=user_question, context=context).strip()\n",
    "prompt"
   ]
  },
  {
   "cell_type": "code",
   "execution_count": 32,
   "id": "830ff483-40b5-4804-8df0-e71848b09321",
   "metadata": {},
   "outputs": [
    {
     "data": {
      "text/plain": [
       "1446"
      ]
     },
     "execution_count": 32,
     "metadata": {},
     "output_type": "execute_result"
    }
   ],
   "source": [
    "len(prompt)"
   ]
  },
  {
   "cell_type": "markdown",
   "id": "29126b19-2e80-47d9-a850-455e1e5c2fbb",
   "metadata": {},
   "source": [
    "## ans.5 1462 (cohort 2024)\n",
    "# ans. 5 1446"
   ]
  },
  {
   "cell_type": "markdown",
   "id": "ee2ce96a-f4fd-4b67-847c-ea0f0c9d10ea",
   "metadata": {},
   "source": [
    "## Q6. How many tokens does our prompt have?"
   ]
  },
  {
   "cell_type": "code",
   "execution_count": 33,
   "id": "b28ee298-02a6-4972-a584-5aa7f411bfa9",
   "metadata": {},
   "outputs": [],
   "source": [
    "import tiktoken"
   ]
  },
  {
   "cell_type": "code",
   "execution_count": 34,
   "id": "98114826-9eba-4e66-8ce7-327e0a5e9fd1",
   "metadata": {},
   "outputs": [],
   "source": [
    "encoding = tiktoken.encoding_for_model(\"gpt-4o\")"
   ]
  },
  {
   "cell_type": "code",
   "execution_count": 35,
   "id": "e03c03cd-2a18-461a-9a1f-9e374c3caad2",
   "metadata": {},
   "outputs": [
    {
     "data": {
      "text/plain": [
       "320"
      ]
     },
     "execution_count": 35,
     "metadata": {},
     "output_type": "execute_result"
    }
   ],
   "source": [
    "prompt_tokens = encoding.encode(prompt)\n",
    "len(prompt_tokens)"
   ]
  },
  {
   "cell_type": "markdown",
   "id": "e1a09a91-74d1-490e-ab71-6e880a5a6774",
   "metadata": {},
   "source": [
    "## ans.6 322 (cohort 2024)\n",
    "# ans.6 320"
   ]
  },
  {
   "cell_type": "code",
   "execution_count": 36,
   "id": "c3b42a6a-d2b0-49d3-9ee4-dc99f409923f",
   "metadata": {},
   "outputs": [
    {
     "data": {
      "text/plain": [
       "[63842, 261, 4165, 14029, 29186]"
      ]
     },
     "execution_count": 36,
     "metadata": {},
     "output_type": "execute_result"
    }
   ],
   "source": [
    "prompt_tokens[0:5]"
   ]
  },
  {
   "cell_type": "code",
   "execution_count": 38,
   "id": "7f93795e-6b27-4d97-a073-aa1a8e42d01d",
   "metadata": {},
   "outputs": [
    {
     "data": {
      "text/plain": [
       "b\"You're\""
      ]
     },
     "execution_count": 38,
     "metadata": {},
     "output_type": "execute_result"
    }
   ],
   "source": [
    "encoding.decode_single_token_bytes(63842)"
   ]
  },
  {
   "cell_type": "markdown",
   "id": "275e29ab-9217-48a2-b9fd-594ab3bd1783",
   "metadata": {},
   "source": [
    "## generating the answer"
   ]
  },
  {
   "cell_type": "code",
   "execution_count": 32,
   "id": "1b88cbf2-04f0-401b-b4fd-73048965394c",
   "metadata": {},
   "outputs": [],
   "source": [
    "from openai import OpenAI"
   ]
  },
  {
   "cell_type": "code",
   "execution_count": 34,
   "id": "2a92ab64-a698-4e12-81a1-f330b9840cdc",
   "metadata": {},
   "outputs": [],
   "source": [
    "client = OpenAI()"
   ]
  },
  {
   "cell_type": "code",
   "execution_count": 35,
   "id": "900fcce2-d58e-4296-94ac-43ff686ab9f5",
   "metadata": {},
   "outputs": [
    {
     "data": {
      "text/plain": [
       "'To execute a command in a running Docker container, you can use the `docker exec` command. Here are the steps to do so:\\n\\n1. First, find the container ID of the running container by using the command:\\n   ```\\n   docker ps\\n   ```\\n\\n2. Next, execute the desired command in the container using the container ID. For example, to start a bash session, you would use:\\n   ```\\n   docker exec -it <container-id> bash\\n   ```'"
      ]
     },
     "execution_count": 35,
     "metadata": {},
     "output_type": "execute_result"
    }
   ],
   "source": [
    "openai_response = client.chat.completions.create(\n",
    "    model='gpt-4o',\n",
    "    messages=[{\"role\": \"user\", \"content\": prompt}]\n",
    ")\n",
    "\n",
    "openai_response.choices[0].message.content"
   ]
  },
  {
   "cell_type": "markdown",
   "id": "e7b36f69-e5be-45bd-96ca-b2bbd5dbf81d",
   "metadata": {},
   "source": [
    "## calculating the costs"
   ]
  },
  {
   "cell_type": "code",
   "execution_count": 37,
   "id": "e9491820-54a7-4d82-96e1-400ab9c85f3d",
   "metadata": {},
   "outputs": [
    {
     "data": {
      "text/plain": [
       "322"
      ]
     },
     "execution_count": 37,
     "metadata": {},
     "output_type": "execute_result"
    }
   ],
   "source": [
    "in_tokens = len(prompt_tokens)\n",
    "in_tokens"
   ]
  },
  {
   "cell_type": "code",
   "execution_count": 38,
   "id": "90923dc7-05fb-4829-bbca-9da0a27ec52c",
   "metadata": {},
   "outputs": [
    {
     "data": {
      "text/plain": [
       "ChatCompletion(id='chatcmpl-9fSedaROtYT8wgcdZCrTs0uiY2MNc', choices=[Choice(finish_reason='stop', index=0, logprobs=None, message=ChatCompletionMessage(content='To execute a command in a running Docker container, you can use the `docker exec` command. Here are the steps to do so:\\n\\n1. First, find the container ID of the running container by using the command:\\n   ```\\n   docker ps\\n   ```\\n\\n2. Next, execute the desired command in the container using the container ID. For example, to start a bash session, you would use:\\n   ```\\n   docker exec -it <container-id> bash\\n   ```', role='assistant', function_call=None, tool_calls=None))], created=1719668623, model='gpt-4o-2024-05-13', object='chat.completion', service_tier=None, system_fingerprint='fp_ce0793330f', usage=CompletionUsage(completion_tokens=98, prompt_tokens=329, total_tokens=427))"
      ]
     },
     "execution_count": 38,
     "metadata": {},
     "output_type": "execute_result"
    }
   ],
   "source": [
    "openai_response"
   ]
  },
  {
   "cell_type": "code",
   "execution_count": 43,
   "id": "53af09d9-349f-4121-96cb-62ea4e1b62ed",
   "metadata": {},
   "outputs": [
    {
     "data": {
      "text/plain": [
       "98"
      ]
     },
     "execution_count": 43,
     "metadata": {},
     "output_type": "execute_result"
    }
   ],
   "source": [
    "response_tokens = encoding.encode(openai_response.choices[0].message.content)\n",
    "out_tokens = len(response_tokens)\n",
    "out_tokens"
   ]
  },
  {
   "cell_type": "code",
   "execution_count": 44,
   "id": "817a820d-5f20-4ebd-b1d1-033958ede653",
   "metadata": {},
   "outputs": [
    {
     "name": "stdout",
     "output_type": "stream",
     "text": [
      "cost: 3.08  $\n"
     ]
    }
   ],
   "source": [
    "#1000 rerequests\n",
    "cost = 0.005*(1000*322)/1000 + 0.015*(1000*98)/1000\n",
    "print(\"cost:\", cost, \" $\")"
   ]
  }
 ],
 "metadata": {
  "kernelspec": {
   "display_name": ".venv",
   "language": "python",
   "name": "python3"
  },
  "language_info": {
   "codemirror_mode": {
    "name": "ipython",
    "version": 3
   },
   "file_extension": ".py",
   "mimetype": "text/x-python",
   "name": "python",
   "nbconvert_exporter": "python",
   "pygments_lexer": "ipython3",
   "version": "3.10.13"
  }
 },
 "nbformat": 4,
 "nbformat_minor": 5
}
