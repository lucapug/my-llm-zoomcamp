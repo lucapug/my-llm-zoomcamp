{
 "cells": [
  {
   "cell_type": "code",
   "execution_count": 1,
   "id": "6d93c08f-6968-457b-adf7-041acccd0685",
   "metadata": {},
   "outputs": [],
   "source": [
    "import openai"
   ]
  },
  {
   "cell_type": "code",
   "execution_count": 2,
   "id": "6354cc21-e5cf-48da-8073-d88f8bb3f7c1",
   "metadata": {},
   "outputs": [],
   "source": [
    "from openai import OpenAI"
   ]
  },
  {
   "cell_type": "code",
   "execution_count": 3,
   "id": "82ee87cb-5b28-4dc9-bfed-5e78772775ee",
   "metadata": {},
   "outputs": [],
   "source": [
    "client=OpenAI()  #if not explicitly given api_key= , it looks into the env variables"
   ]
  },
  {
   "cell_type": "code",
   "execution_count": 4,
   "id": "e9db9669-f39c-479e-9b43-4e5da188b045",
   "metadata": {},
   "outputs": [],
   "source": [
    "import os\n",
    "#os.environ"
   ]
  },
  {
   "cell_type": "code",
   "execution_count": 6,
   "id": "c08d92ca-a2b5-4c87-a651-3e0c02e046e4",
   "metadata": {},
   "outputs": [],
   "source": [
    "response = client.chat.completions.create(\n",
    "    model=\"gpt-4o\",\n",
    "    messages=[{\"role\":\"user\",\n",
    "              \"content\":\"is it too late to join the course?\"}]\n",
    ")"
   ]
  },
  {
   "cell_type": "code",
   "execution_count": 7,
   "id": "cd4d60f9-399f-4ee5-885d-a31de1af1207",
   "metadata": {},
   "outputs": [
    {
     "data": {
      "text/plain": [
       "ChatCompletion(id='chatcmpl-9YrAojiol1APws9WBdkbs3AEGRLoH', choices=[Choice(finish_reason='stop', index=0, logprobs=None, message=ChatCompletionMessage(content=\"The answer to whether it's too late to join a course depends on several factors:\\n\\n1. **Enrollment Deadlines:** Check the specific deadlines set by the institution offering the course. Some courses have strict cut-off dates for enrollment, while others may offer rolling admissions.\\n\\n2. **Course Progress:** If the course has already been underway for a significant period, catch-up work might be challenging, but some instructors may allow late enrollment with the understanding that you'll put in extra effort to get up to speed.\\n\\n3. **Instructor Policies:** Contact the course instructor or administration to inquire about the possibility of joining late. They can provide guidance on whether it's feasible and what steps you might need to take.\\n\\n4. **Available Resources:** Consider whether you have the time, energy, and resources to catch up on missed lectures, assignments, and readings.\\n\\n5. **Online Courses:** Many online courses offer flexible start dates and self-paced learning, making it easier to join after the official start date.\\n\\nIf you can provide more details about the specific course, I might be able to offer more targeted advice.\", role='assistant', function_call=None, tool_calls=None))], created=1718094578, model='gpt-4o-2024-05-13', object='chat.completion', system_fingerprint='fp_319be4768e', usage=CompletionUsage(completion_tokens=216, prompt_tokens=16, total_tokens=232))"
      ]
     },
     "execution_count": 7,
     "metadata": {},
     "output_type": "execute_result"
    }
   ],
   "source": [
    "response"
   ]
  },
  {
   "cell_type": "code",
   "execution_count": 9,
   "id": "e1ac8386-e4fb-4959-8a29-cfad37573b66",
   "metadata": {},
   "outputs": [
    {
     "data": {
      "text/plain": [
       "\"The answer to whether it's too late to join a course depends on several factors:\\n\\n1. **Enrollment Deadlines:** Check the specific deadlines set by the institution offering the course. Some courses have strict cut-off dates for enrollment, while others may offer rolling admissions.\\n\\n2. **Course Progress:** If the course has already been underway for a significant period, catch-up work might be challenging, but some instructors may allow late enrollment with the understanding that you'll put in extra effort to get up to speed.\\n\\n3. **Instructor Policies:** Contact the course instructor or administration to inquire about the possibility of joining late. They can provide guidance on whether it's feasible and what steps you might need to take.\\n\\n4. **Available Resources:** Consider whether you have the time, energy, and resources to catch up on missed lectures, assignments, and readings.\\n\\n5. **Online Courses:** Many online courses offer flexible start dates and self-paced learning, making it easier to join after the official start date.\\n\\nIf you can provide more details about the specific course, I might be able to offer more targeted advice.\""
      ]
     },
     "execution_count": 9,
     "metadata": {},
     "output_type": "execute_result"
    }
   ],
   "source": [
    "response.choices[0].message.content"
   ]
  },
  {
   "cell_type": "code",
   "execution_count": null,
   "id": "14c19188-366b-49fb-b405-ce1313a5cc49",
   "metadata": {},
   "outputs": [],
   "source": []
  }
 ],
 "metadata": {
  "kernelspec": {
   "display_name": "Python 3 (ipykernel)",
   "language": "python",
   "name": "python3"
  },
  "language_info": {
   "codemirror_mode": {
    "name": "ipython",
    "version": 3
   },
   "file_extension": ".py",
   "mimetype": "text/x-python",
   "name": "python",
   "nbconvert_exporter": "python",
   "pygments_lexer": "ipython3",
   "version": "3.10.13"
  }
 },
 "nbformat": 4,
 "nbformat_minor": 5
}
