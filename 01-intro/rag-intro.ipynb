{
 "cells": [
  {
   "cell_type": "code",
   "execution_count": 1,
   "id": "43baab4b-ff31-4c9e-8c5f-d673b1000c50",
   "metadata": {},
   "outputs": [
    {
     "name": "stdout",
     "output_type": "stream",
     "text": [
      "--2024-06-18 15:43:48--  https://raw.githubusercontent.com/alexeygrigorev/minsearch/main/minsearch.py\n",
      "Resolving raw.githubusercontent.com (raw.githubusercontent.com)... 185.199.109.133, 185.199.108.133, 185.199.111.133, ...\n",
      "Connecting to raw.githubusercontent.com (raw.githubusercontent.com)|185.199.109.133|:443... connected.\n",
      "HTTP request sent, awaiting response... 200 OK\n",
      "Length: 3832 (3.7K) [text/plain]\n",
      "Saving to: ‘minsearch.py’\n",
      "\n",
      "minsearch.py        100%[===================>]   3.74K  --.-KB/s    in 0s      \n",
      "\n",
      "2024-06-18 15:43:48 (33.9 MB/s) - ‘minsearch.py’ saved [3832/3832]\n",
      "\n"
     ]
    }
   ],
   "source": [
    "!wget https://raw.githubusercontent.com/alexeygrigorev/minsearch/main/minsearch.py"
   ]
  },
  {
   "cell_type": "code",
   "execution_count": 10,
   "id": "5675e045-bbfa-4c15-8e92-1b952b049e2a",
   "metadata": {},
   "outputs": [],
   "source": [
    "import minsearch"
   ]
  },
  {
   "cell_type": "code",
   "execution_count": 2,
   "id": "4fe58cb0-c8f1-40a4-a108-44913cdfecc7",
   "metadata": {},
   "outputs": [],
   "source": [
    "import json"
   ]
  },
  {
   "cell_type": "code",
   "execution_count": 3,
   "id": "9f04b20c-2844-49d4-9729-097e94c1fccb",
   "metadata": {},
   "outputs": [],
   "source": [
    "with open('documents.json', 'rt') as f_in:\n",
    "    docs_raw = json.load(f_in)"
   ]
  },
  {
   "cell_type": "code",
   "execution_count": 4,
   "id": "f9dc7883-aab3-44c4-b04c-f12209c90ef5",
   "metadata": {},
   "outputs": [],
   "source": [
    "documents = []\n",
    "\n",
    "for course_dict in docs_raw:\n",
    "    for doc in course_dict['documents']:\n",
    "        doc['course'] = course_dict['course']\n",
    "        documents.append(doc)"
   ]
  },
  {
   "cell_type": "code",
   "execution_count": 5,
   "id": "7e44b9f9-a845-4a85-91fd-c4912f3a817b",
   "metadata": {},
   "outputs": [
    {
     "data": {
      "text/plain": [
       "{'text': \"The purpose of this document is to capture frequently asked technical questions\\nThe exact day and hour of the course will be 15th Jan 2024 at 17h00. The course will start with the first  “Office Hours'' live.1\\nSubscribe to course public Google Calendar (it works from Desktop only).\\nRegister before the course starts using this link.\\nJoin the course Telegram channel with announcements.\\nDon’t forget to register in DataTalks.Club's Slack and join the channel.\",\n",
       " 'section': 'General course-related questions',\n",
       " 'question': 'Course - When will the course start?',\n",
       " 'course': 'data-engineering-zoomcamp'}"
      ]
     },
     "execution_count": 5,
     "metadata": {},
     "output_type": "execute_result"
    }
   ],
   "source": [
    "# we have built documents from docs_raw, eliminating the nested stucture. \n",
    "# Now \"course\" is at the same level as \"text\", \"section\" and \"question\" for any document.\n",
    "documents[0]"
   ]
  },
  {
   "cell_type": "code",
   "execution_count": 14,
   "id": "89ab14bd-aee9-48f2-ad36-16bbd43da845",
   "metadata": {},
   "outputs": [],
   "source": [
    "index = minsearch.Index(\n",
    "    text_fields=[\"question\", \"text\", \"section\"],\n",
    "    keyword_fields=[\"course\"]\n",
    ")"
   ]
  },
  {
   "cell_type": "raw",
   "id": "c47a53fb-24d2-4655-acec-9263056e6194",
   "metadata": {},
   "source": [
    "key_word_fields work as filter by values in the \"course\" column.\n",
    "This is equivalent to the SQL instruction (here data-engineering-zoomcamp is one of the values in \"course\" colum to filter upon):\n",
    "SELECT * WHERE course = 'data-engineering-zoomcamp';\n",
    "\n",
    "the similarity search is done across all the text_fields."
   ]
  },
  {
   "cell_type": "code",
   "execution_count": 3,
   "id": "dd0fc08d-72c2-4d80-b4b2-38cfe73cd8af",
   "metadata": {},
   "outputs": [],
   "source": [
    "q = 'the course has already started, can I still enroll?'"
   ]
  },
  {
   "cell_type": "code",
   "execution_count": 15,
   "id": "38fe9186-fa65-4069-8199-df25d7cdbf73",
   "metadata": {},
   "outputs": [
    {
     "data": {
      "text/plain": [
       "<minsearch.Index at 0x7e20fb017c70>"
      ]
     },
     "execution_count": 15,
     "metadata": {},
     "output_type": "execute_result"
    }
   ],
   "source": [
    "index.fit(documents)"
   ]
  },
  {
   "cell_type": "code",
   "execution_count": 9,
   "id": "d45cb114-cbe7-4f8d-a15e-8149958bd8cc",
   "metadata": {},
   "outputs": [],
   "source": [
    "boost = {'question': 3.0, 'section': 0.5}\n",
    "\n",
    "results = index.search(\n",
    "    query=q,\n",
    "    filter_dict={'course': 'data-engineering-zoomcamp'},\n",
    "    boost_dict=boost,\n",
    "    num_results=5   \n",
    ")"
   ]
  },
  {
   "cell_type": "code",
   "execution_count": 10,
   "id": "634fcd0f-4111-4bf0-afc6-06c4b3b79257",
   "metadata": {},
   "outputs": [
    {
     "data": {
      "text/plain": [
       "[{'text': \"Yes, even if you don't register, you're still eligible to submit the homeworks.\\nBe aware, however, that there will be deadlines for turning in the final projects. So don't leave everything for the last minute.\",\n",
       "  'section': 'General course-related questions',\n",
       "  'question': 'Course - Can I still join the course after the start date?',\n",
       "  'course': 'data-engineering-zoomcamp'},\n",
       " {'text': 'Yes, we will keep all the materials after the course finishes, so you can follow the course at your own pace after it finishes.\\nYou can also continue looking at the homeworks and continue preparing for the next cohort. I guess you can also start working on your final capstone project.',\n",
       "  'section': 'General course-related questions',\n",
       "  'question': 'Course - Can I follow the course after it finishes?',\n",
       "  'course': 'data-engineering-zoomcamp'},\n",
       " {'text': \"The purpose of this document is to capture frequently asked technical questions\\nThe exact day and hour of the course will be 15th Jan 2024 at 17h00. The course will start with the first  “Office Hours'' live.1\\nSubscribe to course public Google Calendar (it works from Desktop only).\\nRegister before the course starts using this link.\\nJoin the course Telegram channel with announcements.\\nDon’t forget to register in DataTalks.Club's Slack and join the channel.\",\n",
       "  'section': 'General course-related questions',\n",
       "  'question': 'Course - When will the course start?',\n",
       "  'course': 'data-engineering-zoomcamp'},\n",
       " {'text': 'You can start by installing and setting up all the dependencies and requirements:\\nGoogle cloud account\\nGoogle Cloud SDK\\nPython 3 (installed with Anaconda)\\nTerraform\\nGit\\nLook over the prerequisites and syllabus to see if you are comfortable with these subjects.',\n",
       "  'section': 'General course-related questions',\n",
       "  'question': 'Course - What can I do before the course starts?',\n",
       "  'course': 'data-engineering-zoomcamp'},\n",
       " {'text': 'Yes, the slack channel remains open and you can ask questions there. But always sDocker containers exit code w search the channel first and second, check the FAQ (this document), most likely all your questions are already answered here.\\nYou can also tag the bot @ZoomcampQABot to help you conduct the search, but don’t rely on its answers 100%, it is pretty good though.',\n",
       "  'section': 'General course-related questions',\n",
       "  'question': 'Course - Can I get support if I take the course in the self-paced mode?',\n",
       "  'course': 'data-engineering-zoomcamp'}]"
      ]
     },
     "execution_count": 10,
     "metadata": {},
     "output_type": "execute_result"
    }
   ],
   "source": [
    "results"
   ]
  },
  {
   "cell_type": "code",
   "execution_count": 6,
   "id": "d70065b1-9fa5-4675-993f-2561dbfcb90b",
   "metadata": {},
   "outputs": [],
   "source": [
    "#introduce LLMs (requires opeai api key setup. I have made use of codespaces secrets)\n",
    "from openai import OpenAI"
   ]
  },
  {
   "cell_type": "code",
   "execution_count": 7,
   "id": "f8b692f3-4a66-49a5-9072-cf2b8095b613",
   "metadata": {},
   "outputs": [],
   "source": [
    "client = OpenAI()"
   ]
  },
  {
   "cell_type": "code",
   "execution_count": 4,
   "id": "f1c3a13f-981b-43a1-85bf-714716c900cb",
   "metadata": {},
   "outputs": [
    {
     "data": {
      "text/plain": [
       "\"It's common to be able to enroll in a course after it has already started, but it depends on the specific policies of the institution offering the course. Here are a few steps you can take to find out:\\n\\n1. **Check the Course Website**: Look for any information about late enrollment policies. Some courses may have specific deadlines or allow late enrollment under certain conditions.\\n\\n2. **Contact the Instructor or Course Coordinator**: Send an email or visit during office hours to inquire about the possibility of joining the course late. Be sure to explain why you want to enroll and show that you're committed to catching up on any missed material.\\n\\n3. **Speak with an Academic Advisor**: Academic advisors can provide guidance and may be able to help you with the enrollment process or offer alternatives if late enrollment is not possible.\\n\\n4. **Registrar’s Office**: The registrar’s office at the institution can often provide detailed information about enrollment deadlines and procedures for late registration.\\n\\n5. **Online Courses and MOOCs**: Many online platforms and Massive Open Online Courses (MOOCs) have flexible start times and may allow you to enroll at any point, though this can vary based on the course structure.\\n\\nMake sure to act quickly, as the longer you wait, the more difficult it may become to catch up on the material already covered.\""
      ]
     },
     "execution_count": 4,
     "metadata": {},
     "output_type": "execute_result"
    }
   ],
   "source": [
    "#let's query the LLM without giving any context from our knowledgebase\n",
    "#as you can see, you will receive a generic response\n",
    "\n",
    "response = client.chat.completions.create(\n",
    "    model='gpt-4o',\n",
    "    messages=[{\"role\": \"user\", \"content\": q}]\n",
    ")\n",
    "\n",
    "response.choices[0].message.content"
   ]
  },
  {
   "cell_type": "code",
   "execution_count": 5,
   "id": "7f214590-e2b2-4826-b706-f7bacee3bb84",
   "metadata": {},
   "outputs": [],
   "source": [
    "#Let's now define some useful functions to make use of our search engine \n",
    "#to define the context of the prompt for the openai LLM\n",
    "\n",
    "def search(query):\n",
    "    boost = {'question': 3.0, 'section': 0.5}\n",
    "\n",
    "    results = index.search(\n",
    "        query=query,\n",
    "        filter_dict={'course': 'data-engineering-zoomcamp'},\n",
    "        boost_dict=boost,\n",
    "        num_results=5\n",
    "    )\n",
    "\n",
    "    return results\n"
   ]
  },
  {
   "cell_type": "code",
   "execution_count": 15,
   "id": "ba42dfa7-5d01-439a-9ae2-e9af18648fa5",
   "metadata": {},
   "outputs": [],
   "source": [
    "#.strip() used in prompt_template to avoid line breaks between different texts in the context\n",
    "\n",
    "def build_prompt(query, search_results):\n",
    "    prompt_template = \"\"\"\n",
    "You're a course teaching assistant. Answer the QUESTION based on the CONTEXT from the FAQ database.\n",
    "Use only the facts from the CONTEXT when answering the QUESTION.\n",
    "\n",
    "QUESTION: {question}\n",
    "\n",
    "CONTEXT: \n",
    "{context}\n",
    "\"\"\".strip()\n",
    "\n",
    "    context = \"\"\n",
    "    \n",
    "    for doc in search_results:\n",
    "        context = context + f\"section: {doc['section']}\\nquestion: {doc['question']}\\nanswer: {doc['text']}\\n\\n\"\n",
    "    \n",
    "    prompt = prompt_template.format(question=query, context=context).strip()\n",
    "    return prompt"
   ]
  },
  {
   "cell_type": "code",
   "execution_count": 16,
   "id": "930899e9-2517-43e6-820c-0dcb9151d07f",
   "metadata": {},
   "outputs": [],
   "source": [
    "def llm(prompt):\n",
    "    response = client.chat.completions.create(\n",
    "        model='gpt-4o',\n",
    "        messages=[{\"role\": \"user\", \"content\": prompt}]\n",
    "    )\n",
    "    \n",
    "    return response.choices[0].message.content"
   ]
  },
  {
   "cell_type": "code",
   "execution_count": 8,
   "id": "e7e3cd59-d95e-48fc-9dfe-4ddc09b41e9c",
   "metadata": {},
   "outputs": [],
   "source": [
    "def rag(query):\n",
    "    search_results = search(query)\n",
    "    prompt = build_prompt(query, search_results)\n",
    "    answer = llm(prompt)\n",
    "    return answer"
   ]
  },
  {
   "cell_type": "code",
   "execution_count": 16,
   "id": "a6a2fea9-3d07-4034-963b-5eb3c67cf801",
   "metadata": {},
   "outputs": [
    {
     "data": {
      "text/plain": [
       "'Yes, you can still enroll even after the course has started. You are eligible to submit the homeworks, but be mindful of the deadlines for turning in the final projects to avoid leaving everything for the last minute.'"
      ]
     },
     "execution_count": 16,
     "metadata": {},
     "output_type": "execute_result"
    }
   ],
   "source": [
    "rag(q)"
   ]
  },
  {
   "cell_type": "code",
   "execution_count": 17,
   "id": "45822944-ded1-4be3-ade9-d0d781089cd1",
   "metadata": {},
   "outputs": [],
   "source": [
    "#another example for the RAG\n",
    "\n",
    "query = 'how do I run kafka?'"
   ]
  },
  {
   "cell_type": "code",
   "execution_count": 18,
   "id": "c0f72a74-a868-44e6-ac5d-aab4e3fc2c44",
   "metadata": {},
   "outputs": [
    {
     "data": {
      "text/plain": [
       "'To run Kafka, you can follow the instructions based on the type of implementation you are working on:\\n\\n1. **Java Kafka Producer/Consumer/KStreams**:\\n   - Navigate to your project directory.\\n   - Run the following command in your terminal:\\n     ```\\n     java -cp build/libs/<jar_name>-1.0-SNAPSHOT.jar:out src/main/java/org/example/JsonProducer.java\\n     ```\\n\\n2. **Python Kafka**:\\n   - If encountering a \"Permission denied\" error, ensure you grant execute permission to the build script:\\n     ```\\n     chmod +x build.sh\\n     ```\\n   - If you find a \"ModuleNotFoundError,\" it is recommended to use the updated Kafka Python package:\\n     ```\\n     pip install kafka-python-ng\\n     ```\\n\\n3. **Running a Python File in a Virtual Environment**:\\n   - Create a virtual environment and install the required packages:\\n     ```\\n     python -m venv env\\n     source env/bin/activate\\n     pip install -r ../requirements.txt\\n     ```\\n   - Activate the virtual environment every time you need it:\\n     ```\\n     source env/bin/activate\\n     ```\\n   - Deactivate the virtual environment once done:\\n     ```\\n     deactivate\\n     ```\\n\\nThese steps should help you set up and run Kafka as per your project requirements.'"
      ]
     },
     "execution_count": 18,
     "metadata": {},
     "output_type": "execute_result"
    }
   ],
   "source": [
    "rag(query)"
   ]
  },
  {
   "cell_type": "code",
   "execution_count": 8,
   "id": "f62e1eeb-6bae-4330-8843-0d1dfc60a496",
   "metadata": {},
   "outputs": [],
   "source": [
    "#let's change the search engine from minsearch to elasticsearch\n",
    "#before doing that it is necessary to launch the container elastisearch in the bash terminal..\n",
    "\n",
    "from elasticsearch import Elasticsearch"
   ]
  },
  {
   "cell_type": "code",
   "execution_count": 9,
   "id": "b239ece8-242f-4490-992e-fd76a4fa7337",
   "metadata": {},
   "outputs": [],
   "source": [
    "es_client = Elasticsearch('http://localhost:9200')"
   ]
  },
  {
   "cell_type": "code",
   "execution_count": 11,
   "id": "4d0a31a6-69a7-4ba5-beef-b7c47cb23a47",
   "metadata": {},
   "outputs": [],
   "source": [
    "#having already created the index over documents in workshop1\n",
    "#we can simply recall the index by name\n",
    "index_name = \"course-questions\""
   ]
  },
  {
   "cell_type": "code",
   "execution_count": 18,
   "id": "7d1246aa-0b39-4b84-a629-f46f0e5a1b2f",
   "metadata": {},
   "outputs": [],
   "source": [
    "query = 'I just discovered the course. Can I still join it?'"
   ]
  },
  {
   "cell_type": "code",
   "execution_count": 13,
   "id": "998d290e-1634-4a91-a687-400e258c429b",
   "metadata": {},
   "outputs": [],
   "source": [
    "#let's define the search function that takes place of the one based on minsearch()\n",
    "\n",
    "def elastic_search(query):\n",
    "    search_query = {\n",
    "        \"size\": 5,\n",
    "        \"query\": {\n",
    "            \"bool\": {\n",
    "                \"must\": {\n",
    "                    \"multi_match\": {\n",
    "                        \"query\": query,\n",
    "                        \"fields\": [\"question^3\", \"text\", \"section\"],\n",
    "                        \"type\": \"best_fields\"\n",
    "                    }\n",
    "                },\n",
    "                \"filter\": {\n",
    "                    \"term\": {\n",
    "                        \"course\": \"data-engineering-zoomcamp\"\n",
    "                    }\n",
    "                }\n",
    "            }\n",
    "        }\n",
    "    }\n",
    "\n",
    "    response = es_client.search(index=index_name, body=search_query)\n",
    "    \n",
    "    result_docs = []\n",
    "    \n",
    "    for hit in response['hits']['hits']:\n",
    "        result_docs.append(hit['_source'])\n",
    "    \n",
    "    return result_docs"
   ]
  },
  {
   "cell_type": "code",
   "execution_count": 14,
   "id": "c149d11e-d355-4491-902b-0ba04cabea8e",
   "metadata": {},
   "outputs": [],
   "source": [
    "def rag(query):\n",
    "    search_results = elastic_search(query)  #here the only change to the rag() function\n",
    "    prompt = build_prompt(query, search_results)\n",
    "    answer = llm(prompt)\n",
    "    return answer"
   ]
  },
  {
   "cell_type": "code",
   "execution_count": 19,
   "id": "3c4e4fa4-f6f6-4340-a886-09fc6bd02dbc",
   "metadata": {},
   "outputs": [
    {
     "data": {
      "text/plain": [
       "\"Yes, you can still join the course even if it has already started. You are eligible to submit the homeworks regardless of your registration status. However, please keep in mind that there are deadlines for turning in the final projects, so it's important not to leave everything for the last minute.\""
      ]
     },
     "execution_count": 19,
     "metadata": {},
     "output_type": "execute_result"
    }
   ],
   "source": [
    "rag(query)"
   ]
  },
  {
   "cell_type": "code",
   "execution_count": null,
   "id": "ad6a4407-ca6a-4360-aa3a-1c5933d8874b",
   "metadata": {},
   "outputs": [],
   "source": []
  }
 ],
 "metadata": {
  "kernelspec": {
   "display_name": "Python 3 (ipykernel)",
   "language": "python",
   "name": "python3"
  },
  "language_info": {
   "codemirror_mode": {
    "name": "ipython",
    "version": 3
   },
   "file_extension": ".py",
   "mimetype": "text/x-python",
   "name": "python",
   "nbconvert_exporter": "python",
   "pygments_lexer": "ipython3",
   "version": "3.10.13"
  }
 },
 "nbformat": 4,
 "nbformat_minor": 5
}
